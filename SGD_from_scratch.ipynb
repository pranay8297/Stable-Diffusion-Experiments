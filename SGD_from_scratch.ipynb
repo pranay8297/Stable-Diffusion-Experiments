{
  "nbformat": 4,
  "nbformat_minor": 0,
  "metadata": {
    "colab": {
      "provenance": [],
      "authorship_tag": "ABX9TyP1+jP6UB4+FMBpf/a5e3h6",
      "include_colab_link": true
    },
    "kernelspec": {
      "name": "python3",
      "display_name": "Python 3"
    },
    "language_info": {
      "name": "python"
    }
  },
  "cells": [
    {
      "cell_type": "markdown",
      "metadata": {
        "id": "view-in-github",
        "colab_type": "text"
      },
      "source": [
        "<a href=\"https://colab.research.google.com/github/pranay8297/Stable-Diffusion-Experiments/blob/main/SGD_from_scratch.ipynb\" target=\"_parent\"><img src=\"https://colab.research.google.com/assets/colab-badge.svg\" alt=\"Open In Colab\"/></a>"
      ]
    },
    {
      "cell_type": "code",
      "source": [
        "!pip install ipdb"
      ],
      "metadata": {
        "colab": {
          "base_uri": "https://localhost:8080/"
        },
        "id": "PZ8L0HYsrFlv",
        "outputId": "3904dac7-cbad-4c74-adca-b0fbce32599f"
      },
      "execution_count": 1,
      "outputs": [
        {
          "output_type": "stream",
          "name": "stdout",
          "text": [
            "Collecting ipdb\n",
            "  Downloading ipdb-0.13.13-py3-none-any.whl (12 kB)\n",
            "Requirement already satisfied: ipython>=7.31.1 in /usr/local/lib/python3.10/dist-packages (from ipdb) (7.34.0)\n",
            "Requirement already satisfied: tomli in /usr/local/lib/python3.10/dist-packages (from ipdb) (2.0.1)\n",
            "Requirement already satisfied: decorator in /usr/local/lib/python3.10/dist-packages (from ipdb) (4.4.2)\n",
            "Requirement already satisfied: setuptools>=18.5 in /usr/local/lib/python3.10/dist-packages (from ipython>=7.31.1->ipdb) (67.7.2)\n",
            "Collecting jedi>=0.16 (from ipython>=7.31.1->ipdb)\n",
            "  Downloading jedi-0.19.1-py2.py3-none-any.whl (1.6 MB)\n",
            "\u001b[2K     \u001b[90m━━━━━━━━━━━━━━━━━━━━━━━━━━━━━━━━━━━━━━━━\u001b[0m \u001b[32m1.6/1.6 MB\u001b[0m \u001b[31m8.0 MB/s\u001b[0m eta \u001b[36m0:00:00\u001b[0m\n",
            "\u001b[?25hRequirement already satisfied: pickleshare in /usr/local/lib/python3.10/dist-packages (from ipython>=7.31.1->ipdb) (0.7.5)\n",
            "Requirement already satisfied: traitlets>=4.2 in /usr/local/lib/python3.10/dist-packages (from ipython>=7.31.1->ipdb) (5.7.1)\n",
            "Requirement already satisfied: prompt-toolkit!=3.0.0,!=3.0.1,<3.1.0,>=2.0.0 in /usr/local/lib/python3.10/dist-packages (from ipython>=7.31.1->ipdb) (3.0.43)\n",
            "Requirement already satisfied: pygments in /usr/local/lib/python3.10/dist-packages (from ipython>=7.31.1->ipdb) (2.16.1)\n",
            "Requirement already satisfied: backcall in /usr/local/lib/python3.10/dist-packages (from ipython>=7.31.1->ipdb) (0.2.0)\n",
            "Requirement already satisfied: matplotlib-inline in /usr/local/lib/python3.10/dist-packages (from ipython>=7.31.1->ipdb) (0.1.6)\n",
            "Requirement already satisfied: pexpect>4.3 in /usr/local/lib/python3.10/dist-packages (from ipython>=7.31.1->ipdb) (4.9.0)\n",
            "Requirement already satisfied: parso<0.9.0,>=0.8.3 in /usr/local/lib/python3.10/dist-packages (from jedi>=0.16->ipython>=7.31.1->ipdb) (0.8.3)\n",
            "Requirement already satisfied: ptyprocess>=0.5 in /usr/local/lib/python3.10/dist-packages (from pexpect>4.3->ipython>=7.31.1->ipdb) (0.7.0)\n",
            "Requirement already satisfied: wcwidth in /usr/local/lib/python3.10/dist-packages (from prompt-toolkit!=3.0.0,!=3.0.1,<3.1.0,>=2.0.0->ipython>=7.31.1->ipdb) (0.2.12)\n",
            "Installing collected packages: jedi, ipdb\n",
            "Successfully installed ipdb-0.13.13 jedi-0.19.1\n"
          ]
        }
      ]
    },
    {
      "cell_type": "code",
      "execution_count": 2,
      "metadata": {
        "id": "sc58TNVoLRi1"
      },
      "outputs": [],
      "source": [
        "import torch\n",
        "from torch import nn\n",
        "from ipdb import set_trace as st"
      ]
    },
    {
      "cell_type": "code",
      "source": [
        "data = torch.randn(10, 4)"
      ],
      "metadata": {
        "id": "xOsgsaKuLZWT"
      },
      "execution_count": 100,
      "outputs": []
    },
    {
      "cell_type": "code",
      "source": [
        "# y = 4*x1 + 5*x2 + 2"
      ],
      "metadata": {
        "id": "tpecy0HgLg3X"
      },
      "execution_count": 3,
      "outputs": []
    },
    {
      "cell_type": "code",
      "source": [
        "y = data[:, 0] * 4 + data[:, 1]*5 + data[:, 2]*2 + data[:, 3]*1.2 + 2"
      ],
      "metadata": {
        "id": "czt58-krLo-7"
      },
      "execution_count": 101,
      "outputs": []
    },
    {
      "cell_type": "code",
      "source": [
        "data, y"
      ],
      "metadata": {
        "colab": {
          "base_uri": "https://localhost:8080/"
        },
        "id": "i75Po96QLtUv",
        "outputId": "72f3c219-d6fb-419b-e961-78a0c0301cc1"
      },
      "execution_count": 102,
      "outputs": [
        {
          "output_type": "execute_result",
          "data": {
            "text/plain": [
              "(tensor([[ 0.3368,  1.2659,  0.7874,  0.7350],\n",
              "         [ 0.1184, -1.5707, -0.6471, -0.7181],\n",
              "         [-0.7149, -0.3891, -0.3928, -1.3150],\n",
              "         [-0.6560, -1.9872, -0.0832, -2.4100],\n",
              "         [ 0.9703,  0.7359,  1.3449, -0.8503],\n",
              "         [ 0.5559, -0.3309, -1.2239, -1.1382],\n",
              "         [-0.9164, -0.4503, -0.9206, -1.8818],\n",
              "         [ 0.5690, -0.9545,  0.5321, -0.5809],\n",
              "         [ 0.0757,  1.5074, -2.1634, -0.1104],\n",
              "         [ 0.0139,  1.0272, -0.9465,  1.3147]]),\n",
              " tensor([ 12.1337,  -7.5357,  -5.1687, -13.6180,  11.2300,  -1.2443,  -8.0166,\n",
              "          -0.1293,   5.3803,   6.8759]))"
            ]
          },
          "metadata": {},
          "execution_count": 102
        }
      ]
    },
    {
      "cell_type": "code",
      "source": [
        "# mean squared error\n",
        "a = torch.randn(10)\n",
        "b = torch.randn(10)\n",
        "((a - b)**2).mean()"
      ],
      "metadata": {
        "colab": {
          "base_uri": "https://localhost:8080/"
        },
        "id": "2x-Q9iLNMMJ4",
        "outputId": "0030f103-f162-40f1-874d-59a69baa0c83"
      },
      "execution_count": 103,
      "outputs": [
        {
          "output_type": "execute_result",
          "data": {
            "text/plain": [
              "tensor(2.6847)"
            ]
          },
          "metadata": {},
          "execution_count": 103
        }
      ]
    },
    {
      "cell_type": "code",
      "source": [
        "def loss_fn(y, yhat):\n",
        "\n",
        "  return ((y-yhat.squeeze())**2).mean()"
      ],
      "metadata": {
        "id": "PGY5KxenMGP2"
      },
      "execution_count": 42,
      "outputs": []
    },
    {
      "cell_type": "code",
      "source": [
        "orig_y = y.clone()"
      ],
      "metadata": {
        "id": "pX2kog2iO3A-"
      },
      "execution_count": 104,
      "outputs": []
    },
    {
      "cell_type": "code",
      "source": [
        "x = data.clone()"
      ],
      "metadata": {
        "id": "plFRJpPaMfwV"
      },
      "execution_count": 105,
      "outputs": []
    },
    {
      "cell_type": "code",
      "source": [
        "torch.tensor(np.linspace(-1, 1, 10))"
      ],
      "metadata": {
        "colab": {
          "base_uri": "https://localhost:8080/"
        },
        "id": "PhCL8PSHmii8",
        "outputId": "b1110324-b26c-41e3-de22-d1f3ffa7b9d8"
      },
      "execution_count": 38,
      "outputs": [
        {
          "output_type": "execute_result",
          "data": {
            "text/plain": [
              "tensor([-1.0000, -0.7778, -0.5556, -0.3333, -0.1111,  0.1111,  0.3333,  0.5556,\n",
              "         0.7778,  1.0000], dtype=torch.float64)"
            ]
          },
          "metadata": {},
          "execution_count": 38
        }
      ]
    },
    {
      "cell_type": "code",
      "source": [
        "y = y +  torch.tensor(np.linspace(-1, 1, 10)) * torch.std(y)/3"
      ],
      "metadata": {
        "id": "daSj37fuO73B"
      },
      "execution_count": 106,
      "outputs": []
    },
    {
      "cell_type": "code",
      "source": [
        "y = y.to(torch.float32)"
      ],
      "metadata": {
        "id": "G3DBkP7Fon7U"
      },
      "execution_count": 107,
      "outputs": []
    },
    {
      "cell_type": "code",
      "source": [
        "from tqdm import tqdm"
      ],
      "metadata": {
        "id": "jA5Y16uUPJcm"
      },
      "execution_count": 44,
      "outputs": []
    },
    {
      "cell_type": "code",
      "source": [],
      "metadata": {
        "id": "A1aguUOnogqZ"
      },
      "execution_count": null,
      "outputs": []
    },
    {
      "cell_type": "code",
      "source": [
        "lr = 0.01\n",
        "layer = nn.Linear(4, 1, bias = True)\n",
        "for i in tqdm(range(500)):\n",
        "  yhat = layer(x)\n",
        "  loss = loss_fn(y, yhat)\n",
        "  loss.backward()\n",
        "  if ((i + 1) % 50) == 0:\n",
        "    print(f\"Loss for epoch: {i+1} is {loss.item()}\")\n",
        "  with torch.no_grad():\n",
        "    for param in layer.parameters():\n",
        "      param.sub_(lr * param.grad)\n",
        "    layer.zero_grad()\n"
      ],
      "metadata": {
        "colab": {
          "base_uri": "https://localhost:8080/"
        },
        "id": "EO-IoV8KMZ2t",
        "outputId": "e8dbc22f-d2d6-4cc6-96a6-3f0c9a958994"
      },
      "execution_count": 121,
      "outputs": [
        {
          "output_type": "stream",
          "name": "stderr",
          "text": [
            "100%|██████████| 500/500 [00:00<00:00, 3264.28it/s]"
          ]
        },
        {
          "output_type": "stream",
          "name": "stdout",
          "text": [
            "Loss for epoch: 50 is 8.299715042114258\n",
            "Loss for epoch: 100 is 3.8520901203155518\n",
            "Loss for epoch: 150 is 2.971248149871826\n",
            "Loss for epoch: 200 is 2.708824634552002\n",
            "Loss for epoch: 250 is 2.5910282135009766\n",
            "Loss for epoch: 300 is 2.520672559738159\n",
            "Loss for epoch: 350 is 2.4731101989746094\n",
            "Loss for epoch: 400 is 2.439601421356201\n",
            "Loss for epoch: 450 is 2.415698766708374\n",
            "Loss for epoch: 500 is 2.3985819816589355\n"
          ]
        },
        {
          "output_type": "stream",
          "name": "stderr",
          "text": [
            "\n"
          ]
        }
      ]
    },
    {
      "cell_type": "code",
      "source": [
        "layer.weight, layer.bias"
      ],
      "metadata": {
        "colab": {
          "base_uri": "https://localhost:8080/"
        },
        "id": "7b17OaQoOFS2",
        "outputId": "e98347be-5d66-44b0-91ce-9742000609f3"
      },
      "execution_count": 122,
      "outputs": [
        {
          "output_type": "execute_result",
          "data": {
            "text/plain": [
              "(Parameter containing:\n",
              " tensor([[4.2115, 5.2574, 1.1392, 1.3909]], requires_grad=True),\n",
              " Parameter containing:\n",
              " tensor([1.8703], requires_grad=True))"
            ]
          },
          "metadata": {},
          "execution_count": 122
        }
      ]
    },
    {
      "cell_type": "code",
      "source": [
        "y, yhat"
      ],
      "metadata": {
        "colab": {
          "base_uri": "https://localhost:8080/"
        },
        "id": "YSWXEbzcv5oS",
        "outputId": "f2413e69-0a26-497c-c7a6-9f65c95a23eb"
      },
      "execution_count": 124,
      "outputs": [
        {
          "output_type": "execute_result",
          "data": {
            "text/plain": [
              "(tensor([  9.2270,  -9.7965,  -6.7836, -14.5869,  10.9070,  -0.9213,  -7.0477,\n",
              "           1.4855,   7.6411,   9.7826]),\n",
              " tensor([[ 11.8645],\n",
              "         [ -7.6248],\n",
              "         [ -5.4620],\n",
              "         [-14.7861],\n",
              "         [ 10.1743],\n",
              "         [ -0.5067],\n",
              "         [ -8.0223],\n",
              "         [ -0.9535],\n",
              "         [  7.4952],\n",
              "         [  8.0802]], grad_fn=<AddmmBackward0>))"
            ]
          },
          "metadata": {},
          "execution_count": 124
        }
      ]
    },
    {
      "cell_type": "code",
      "source": [
        "import matplotlib.pyplot as plt"
      ],
      "metadata": {
        "id": "VJKKyA1nPtsM"
      },
      "execution_count": 47,
      "outputs": []
    },
    {
      "cell_type": "code",
      "source": [
        "class MSELoss:\n",
        "  def forward(self, targ, inp):\n",
        "    self.targ = targ\n",
        "    self.inp = inp\n",
        "    self.out = torch.mean((targ - inp.squeeze())**2)\n",
        "    return self.out\n",
        "\n",
        "  def __call__(self, y, yhat):\n",
        "    return self.forward(y, yhat)\n",
        "\n",
        "  def backward(self):\n",
        "    ## Calculate dL/dyhat\n",
        "    grads = (-2/self.inp.shape[0])*(self.targ - self.inp.squeeze())\n",
        "    self.inp.grad = grads.unsqueeze(-1)\n",
        "\n",
        "\n",
        "class Linear:\n",
        "  def __init__(self, n_in, n_out):\n",
        "    self.w = torch.randn(n_in, n_out)\n",
        "    self.b = torch.randn(n_out)\n",
        "\n",
        "  def forward(self, x):\n",
        "    self.inp = x\n",
        "    # bs*n_in, n_in*n_out = bs * n_out\n",
        "    self.out = torch.matmul(x, self.w) + self.b\n",
        "    return self.out\n",
        "\n",
        "  def __call__(self, x):\n",
        "    return self.forward(x)\n",
        "\n",
        "  def backward(self):\n",
        "\n",
        "    self.w.grad = self.inp.t() @ self.out.grad\n",
        "    self.b.grad = self.out.grad.sum(0)\n",
        "    self.inp.grad = self.out.grad @ self.w.t()\n",
        "\n",
        "  def zero_grad(self):\n",
        "    self.w.grad = torch.zeros_like(self.w)\n",
        "    self.b.grad = torch.zeros_like(self.b)\n",
        "\n"
      ],
      "metadata": {
        "id": "9dV04chMY8jg"
      },
      "execution_count": 111,
      "outputs": []
    },
    {
      "cell_type": "code",
      "source": [
        "class Relu:\n",
        "  def forward(self, x):\n",
        "    self.inp = x\n",
        "    self.out = torch.clamp(x, torch.tensor(0))\n",
        "    return self.out\n",
        "\n",
        "  def __call__(self, x):\n",
        "    return self.forward(x)\n",
        "\n",
        "  def backward(self):\n",
        "    self.inp.grad = (self.inp > 0.0).float() * self.out.grad\n"
      ],
      "metadata": {
        "id": "6FuUAw-8UQp4"
      },
      "execution_count": 112,
      "outputs": []
    },
    {
      "cell_type": "code",
      "source": [
        "class Model:\n",
        "\n",
        "  def __init__(self, layers):\n",
        "    self.layers = layers\n",
        "\n",
        "  def forward(self, inp):\n",
        "    for l in self.layers: inp = l(inp)\n",
        "    return inp\n",
        "\n",
        "  def __call__(self, inp):\n",
        "    return self.forward(inp)\n",
        "\n",
        "  def backward(self):\n",
        "    for l in reversed(self.layers): l.backward\n"
      ],
      "metadata": {
        "id": "vZKxZK6zVh5E"
      },
      "execution_count": 113,
      "outputs": []
    },
    {
      "cell_type": "code",
      "source": [
        "loss_fn = MSELoss()\n",
        "layer = Linear(4, 1)\n",
        "yhat = layer(x)\n",
        "loss = loss_fn(y, yhat)"
      ],
      "metadata": {
        "id": "KVW-nM87S4BB"
      },
      "execution_count": 115,
      "outputs": []
    },
    {
      "cell_type": "code",
      "source": [
        "y, yhat.dtype"
      ],
      "metadata": {
        "colab": {
          "base_uri": "https://localhost:8080/"
        },
        "id": "FTPxIRxKoMJg",
        "outputId": "67aef1b8-664a-43ab-fc4d-b5745dea80dc"
      },
      "execution_count": 116,
      "outputs": [
        {
          "output_type": "execute_result",
          "data": {
            "text/plain": [
              "(tensor([  9.2270,  -9.7965,  -6.7836, -14.5869,  10.9070,  -0.9213,  -7.0477,\n",
              "           1.4855,   7.6411,   9.7826]),\n",
              " torch.float32)"
            ]
          },
          "metadata": {},
          "execution_count": 116
        }
      ]
    },
    {
      "cell_type": "code",
      "source": [
        "lr = 0.1\n",
        "layer = Linear(4, 1)\n",
        "for i in tqdm(range(500)):\n",
        "  yhat = layer(x)\n",
        "  loss = loss_fn(y, yhat)\n",
        "  loss_fn.backward()\n",
        "  layer.backward()\n",
        "  if (i + 1)%50 == 0:\n",
        "    print(f\"\\n Loss for epoch: {i+1} is {loss.item()}\")\n",
        "  with torch.no_grad():\n",
        "    for param in [layer.w, layer.b]:\n",
        "      param.sub_(lr * param.grad)\n",
        "    layer.zero_grad()\n"
      ],
      "metadata": {
        "colab": {
          "base_uri": "https://localhost:8080/"
        },
        "id": "oqk68CQEpkn5",
        "outputId": "2e44a5ae-34ae-4241-cf86-6ad467a75b56"
      },
      "execution_count": 118,
      "outputs": [
        {
          "output_type": "stream",
          "name": "stderr",
          "text": [
            "100%|██████████| 500/500 [00:00<00:00, 3364.92it/s]"
          ]
        },
        {
          "output_type": "stream",
          "name": "stdout",
          "text": [
            "\n",
            " Loss for epoch: 50 is 2.3878281116485596\n",
            "\n",
            " Loss for epoch: 100 is 2.3562254905700684\n",
            "\n",
            " Loss for epoch: 150 is 2.3551907539367676\n",
            "\n",
            " Loss for epoch: 200 is 2.3551549911499023\n",
            "\n",
            " Loss for epoch: 250 is 2.355154037475586\n",
            "\n",
            " Loss for epoch: 300 is 2.3551533222198486\n",
            "\n",
            " Loss for epoch: 350 is 2.355153799057007\n",
            "\n",
            " Loss for epoch: 400 is 2.3551530838012695\n",
            "\n",
            " Loss for epoch: 450 is 2.3551530838012695\n",
            "\n",
            " Loss for epoch: 500 is 2.3551530838012695\n"
          ]
        },
        {
          "output_type": "stream",
          "name": "stderr",
          "text": [
            "\n"
          ]
        }
      ]
    },
    {
      "cell_type": "code",
      "source": [
        "layer.w, layer.b"
      ],
      "metadata": {
        "colab": {
          "base_uri": "https://localhost:8080/"
        },
        "id": "oa1a47BFp672",
        "outputId": "37e8f18a-526f-4430-eda4-1967d68ef73a"
      },
      "execution_count": 119,
      "outputs": [
        {
          "output_type": "execute_result",
          "data": {
            "text/plain": [
              "(tensor([[4.6118],\n",
              "         [5.3032],\n",
              "         [1.0158],\n",
              "         [1.2047]]),\n",
              " tensor([1.6510]))"
            ]
          },
          "metadata": {},
          "execution_count": 119
        }
      ]
    },
    {
      "cell_type": "markdown",
      "source": [
        "# Code Refactoring"
      ],
      "metadata": {
        "id": "V-p4sjXblZB-"
      }
    },
    {
      "cell_type": "code",
      "source": [
        "class MyModule:\n",
        "  def __init__(self):\n",
        "    self.parameters = []\n",
        "\n",
        "  def get_parameters(self):\n",
        "    return self.parameters\n",
        "\n",
        "  def __call__(self, *args):\n",
        "    self.args = args\n",
        "    self.out = self.forward(*args)\n",
        "    return self.out\n",
        "\n",
        "  def _backward(self):\n",
        "    raise Exception(\"Not Implemented\")\n",
        "\n",
        "  def backward(self):\n",
        "    return self._backward(self.out, *self.args)\n",
        "\n",
        "  def forward(self):\n",
        "    raise Exception('Not Implemented')"
      ],
      "metadata": {
        "id": "2byT4nd32GlL"
      },
      "execution_count": 190,
      "outputs": []
    },
    {
      "cell_type": "code",
      "source": [
        "class MSELoss(MyModule):\n",
        "    def forward(self, targ, inp):\n",
        "        return torch.mean((targ - inp.squeeze())**2)\n",
        "\n",
        "    def _backward(self, out, targ, inp):\n",
        "        grads = (-2/inp.shape[0])*(targ - inp.squeeze())\n",
        "        inp.grad = grads.unsqueeze(-1)\n",
        "\n",
        "class Relu(MyModule):\n",
        "    def __init__(self):\n",
        "        super().__init__()\n",
        "\n",
        "    def forward(self, x):\n",
        "        return torch.clamp(x, min = 0.)\n",
        "\n",
        "    def _backward(self, out, inp):\n",
        "        inp.grad = (inp > 0.0).float() * out.grad\n",
        "\n",
        "class Linear(MyModule):\n",
        "    def __init__(self, nin, nout):\n",
        "        super().__init__()\n",
        "        self.w = torch.randn(nin, nout)\n",
        "        self.b = torch.rand(nout)\n",
        "        self.parameters = [self.w, self.b]\n",
        "\n",
        "    def get_parameters(self):\n",
        "        return self.parameters\n",
        "\n",
        "    def zero_grad(self):\n",
        "        self.w.grad = torch.zeros_like(self.w)\n",
        "        self.b.grad = torch.zeros_like(self.b)\n",
        "\n",
        "    def forward(self, x):\n",
        "        return torch.matmul(x, self.w) + self.b\n",
        "\n",
        "    def _backward(self, out, inp):\n",
        "        inp.grad = out.grad @ self.w.t()\n",
        "        self.w.grad = inp.t() @ out.grad\n",
        "        self.b.grad = out.grad.sum(0)\n"
      ],
      "metadata": {
        "id": "7HnYC6dDqe_x"
      },
      "execution_count": 191,
      "outputs": []
    },
    {
      "cell_type": "code",
      "source": [
        "class Model(MyModule):\n",
        "    def __init__(self, layers, loss_fn):\n",
        "        self.layers = layers\n",
        "        self.loss_fn = loss_fn\n",
        "\n",
        "    def get_parameters(self):\n",
        "        params = []\n",
        "        for l in self.layers:\n",
        "            params.extend(l.get_parameters())\n",
        "        return params\n",
        "\n",
        "    def forward(self, x):\n",
        "        for l in self.layers:\n",
        "            x = l(x)\n",
        "        return x\n",
        "\n",
        "    def _backward(self, *args):\n",
        "        self.loss_fn.backward()\n",
        "\n",
        "        for l in reversed(self.layers):\n",
        "            l.backward()\n"
      ],
      "metadata": {
        "id": "vHEcFVYms0jq"
      },
      "execution_count": 195,
      "outputs": []
    },
    {
      "cell_type": "code",
      "source": [
        "Relu().get_parameters()"
      ],
      "metadata": {
        "colab": {
          "base_uri": "https://localhost:8080/"
        },
        "id": "ccOjsJt01GBA",
        "outputId": "c6f8cde7-c083-4c4a-8fd7-65fa0743e0ea"
      },
      "execution_count": 196,
      "outputs": [
        {
          "output_type": "execute_result",
          "data": {
            "text/plain": [
              "[]"
            ]
          },
          "metadata": {},
          "execution_count": 196
        }
      ]
    },
    {
      "cell_type": "code",
      "source": [
        "loss_fn = MSELoss()\n",
        "model = Model([Linear(4, 2), Relu(), Linear(2, 1)], loss_fn)\n",
        "lr = 0.01\n",
        "for i in tqdm(range(2000)):\n",
        "  yhat = model(x)\n",
        "  loss = model.loss_fn(y, yhat)\n",
        "  model.backward()\n",
        "  if (i + 1)%50 == 0:\n",
        "    print(f\"\\n Loss for epoch: {i+1} is {loss.item()}\")\n",
        "  with torch.no_grad():\n",
        "    for param in model.get_parameters():\n",
        "      param.sub_(lr * param.grad)\n",
        "    model.layers[0].zero_grad()\n",
        "    model.layers[2].zero_grad()\n"
      ],
      "metadata": {
        "colab": {
          "base_uri": "https://localhost:8080/"
        },
        "id": "yDvyBeIJvGEO",
        "outputId": "2f9ad0c9-de0e-47b6-823b-224c5d9bdff9"
      },
      "execution_count": 209,
      "outputs": [
        {
          "output_type": "stream",
          "name": "stderr",
          "text": [
            " 38%|███▊      | 750/2000 [00:00<00:00, 3575.61it/s]"
          ]
        },
        {
          "output_type": "stream",
          "name": "stdout",
          "text": [
            "\n",
            " Loss for epoch: 50 is 19.24431037902832\n",
            "\n",
            " Loss for epoch: 100 is 10.260042190551758\n",
            "\n",
            " Loss for epoch: 150 is 6.667061805725098\n",
            "\n",
            " Loss for epoch: 200 is 4.986515522003174\n",
            "\n",
            " Loss for epoch: 250 is 3.5259690284729004\n",
            "\n",
            " Loss for epoch: 300 is 2.740647315979004\n",
            "\n",
            " Loss for epoch: 350 is 2.2755513191223145\n",
            "\n",
            " Loss for epoch: 400 is 1.9998388290405273\n",
            "\n",
            " Loss for epoch: 450 is 1.8372268676757812\n",
            "\n",
            " Loss for epoch: 500 is 1.741594910621643\n",
            "\n",
            " Loss for epoch: 550 is 0.9468549489974976\n",
            "\n",
            " Loss for epoch: 600 is 0.659949779510498\n",
            "\n",
            " Loss for epoch: 650 is 0.4763644337654114\n",
            "\n",
            " Loss for epoch: 700 is 0.34873297810554504\n",
            "\n",
            " Loss for epoch: 750 is 0.25921717286109924\n"
          ]
        },
        {
          "output_type": "stream",
          "name": "stderr",
          "text": [
            " 73%|███████▎  | 1464/2000 [00:00<00:00, 3496.17it/s]"
          ]
        },
        {
          "output_type": "stream",
          "name": "stdout",
          "text": [
            "\n",
            " Loss for epoch: 800 is 0.1963081657886505\n",
            "\n",
            " Loss for epoch: 850 is 0.1520116925239563\n",
            "\n",
            " Loss for epoch: 900 is 0.12074178457260132\n",
            "\n",
            " Loss for epoch: 950 is 0.09859783202409744\n",
            "\n",
            " Loss for epoch: 1000 is 0.08285629004240036\n",
            "\n",
            " Loss for epoch: 1050 is 0.07161638885736465\n",
            "\n",
            " Loss for epoch: 1100 is 0.06354961544275284\n",
            "\n",
            " Loss for epoch: 1150 is 0.05134259909391403\n",
            "\n",
            " Loss for epoch: 1200 is 0.042517755180597305\n",
            "\n",
            " Loss for epoch: 1250 is 0.0352233462035656\n",
            "\n",
            " Loss for epoch: 1300 is 0.029184062033891678\n",
            "\n",
            " Loss for epoch: 1350 is 0.024182889610528946\n",
            "\n",
            " Loss for epoch: 1400 is 0.020039930939674377\n",
            "\n",
            " Loss for epoch: 1450 is 0.016607755795121193\n",
            "\n",
            " Loss for epoch: 1500 is 0.013763749971985817\n"
          ]
        },
        {
          "output_type": "stream",
          "name": "stderr",
          "text": [
            "100%|██████████| 2000/2000 [00:00<00:00, 3416.31it/s]"
          ]
        },
        {
          "output_type": "stream",
          "name": "stdout",
          "text": [
            "\n",
            " Loss for epoch: 1550 is 0.011407050304114819\n",
            "\n",
            " Loss for epoch: 1600 is 0.009454063139855862\n",
            "\n",
            " Loss for epoch: 1650 is 0.00783574115484953\n",
            "\n",
            " Loss for epoch: 1700 is 0.006494194269180298\n",
            "\n",
            " Loss for epoch: 1750 is 0.005382300820201635\n",
            "\n",
            " Loss for epoch: 1800 is 0.004460818134248257\n",
            "\n",
            " Loss for epoch: 1850 is 0.0036970253568142653\n",
            "\n",
            " Loss for epoch: 1900 is 0.003063978161662817\n",
            "\n",
            " Loss for epoch: 1950 is 0.0025393334217369556\n",
            "\n",
            " Loss for epoch: 2000 is 0.0021044788882136345\n"
          ]
        },
        {
          "output_type": "stream",
          "name": "stderr",
          "text": [
            "\n"
          ]
        }
      ]
    },
    {
      "cell_type": "code",
      "source": [
        "model.layers[0].parameters, model.layers[2].parameters"
      ],
      "metadata": {
        "colab": {
          "base_uri": "https://localhost:8080/"
        },
        "id": "B2IrjvoGwdHV",
        "outputId": "87e653dc-35b0-499a-ac74-196d67dd9b71"
      },
      "execution_count": 210,
      "outputs": [
        {
          "output_type": "execute_result",
          "data": {
            "text/plain": [
              "([tensor([[-0.0710, -1.1680],\n",
              "          [-1.9109, -1.4432],\n",
              "          [ 0.8374, -0.5813],\n",
              "          [ 1.5237, -0.3553]]),\n",
              "  tensor([0.2737, 2.8973])],\n",
              " [tensor([[-0.0518],\n",
              "          [-3.4404]]),\n",
              "  tensor([11.9994])])"
            ]
          },
          "metadata": {},
          "execution_count": 210
        }
      ]
    }
  ]
}