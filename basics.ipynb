{
  "nbformat": 4,
  "nbformat_minor": 0,
  "metadata": {
    "colab": {
      "provenance": [],
      "authorship_tag": "ABX9TyPFrU/MxMhqtq6wL3az1UcU",
      "include_colab_link": true
    },
    "kernelspec": {
      "name": "python3",
      "display_name": "Python 3"
    },
    "language_info": {
      "name": "python"
    },
    "widgets": {
      "application/vnd.jupyter.widget-state+json": {
        "b457d406353946679c90b3b06b8b87a0": {
          "model_module": "@jupyter-widgets/controls",
          "model_name": "HBoxModel",
          "model_module_version": "1.5.0",
          "state": {
            "_dom_classes": [],
            "_model_module": "@jupyter-widgets/controls",
            "_model_module_version": "1.5.0",
            "_model_name": "HBoxModel",
            "_view_count": null,
            "_view_module": "@jupyter-widgets/controls",
            "_view_module_version": "1.5.0",
            "_view_name": "HBoxView",
            "box_style": "",
            "children": [
              "IPY_MODEL_7bc9e0c4b02644cba96600c073f8e993",
              "IPY_MODEL_687940992d2d40a0935292c18be5c07b",
              "IPY_MODEL_6d0fd9bfc18b4b878dd6f6bf1af2e87d"
            ],
            "layout": "IPY_MODEL_055934d69f5d4326b61b7079b3dcdf38"
          }
        },
        "7bc9e0c4b02644cba96600c073f8e993": {
          "model_module": "@jupyter-widgets/controls",
          "model_name": "HTMLModel",
          "model_module_version": "1.5.0",
          "state": {
            "_dom_classes": [],
            "_model_module": "@jupyter-widgets/controls",
            "_model_module_version": "1.5.0",
            "_model_name": "HTMLModel",
            "_view_count": null,
            "_view_module": "@jupyter-widgets/controls",
            "_view_module_version": "1.5.0",
            "_view_name": "HTMLView",
            "description": "",
            "description_tooltip": null,
            "layout": "IPY_MODEL_602bf0ffefbd42629f0ba738af9acbf2",
            "placeholder": "​",
            "style": "IPY_MODEL_77d205d6b45d4701aefb7e88f6dd451a",
            "value": "Downloading data: 100%"
          }
        },
        "687940992d2d40a0935292c18be5c07b": {
          "model_module": "@jupyter-widgets/controls",
          "model_name": "FloatProgressModel",
          "model_module_version": "1.5.0",
          "state": {
            "_dom_classes": [],
            "_model_module": "@jupyter-widgets/controls",
            "_model_module_version": "1.5.0",
            "_model_name": "FloatProgressModel",
            "_view_count": null,
            "_view_module": "@jupyter-widgets/controls",
            "_view_module_version": "1.5.0",
            "_view_name": "ProgressView",
            "bar_style": "success",
            "description": "",
            "description_tooltip": null,
            "layout": "IPY_MODEL_79af673da8934cd4a17ce48b45742c43",
            "max": 30931277,
            "min": 0,
            "orientation": "horizontal",
            "style": "IPY_MODEL_d18de9c2722a430aaeb2374c555ef79a",
            "value": 30931277
          }
        },
        "6d0fd9bfc18b4b878dd6f6bf1af2e87d": {
          "model_module": "@jupyter-widgets/controls",
          "model_name": "HTMLModel",
          "model_module_version": "1.5.0",
          "state": {
            "_dom_classes": [],
            "_model_module": "@jupyter-widgets/controls",
            "_model_module_version": "1.5.0",
            "_model_name": "HTMLModel",
            "_view_count": null,
            "_view_module": "@jupyter-widgets/controls",
            "_view_module_version": "1.5.0",
            "_view_name": "HTMLView",
            "description": "",
            "description_tooltip": null,
            "layout": "IPY_MODEL_8004b8af160a4ab78e80f400f03568e1",
            "placeholder": "​",
            "style": "IPY_MODEL_8687248783924b00a5a0200033b217ed",
            "value": " 30.9M/30.9M [00:00&lt;00:00, 59.6MB/s]"
          }
        },
        "055934d69f5d4326b61b7079b3dcdf38": {
          "model_module": "@jupyter-widgets/base",
          "model_name": "LayoutModel",
          "model_module_version": "1.2.0",
          "state": {
            "_model_module": "@jupyter-widgets/base",
            "_model_module_version": "1.2.0",
            "_model_name": "LayoutModel",
            "_view_count": null,
            "_view_module": "@jupyter-widgets/base",
            "_view_module_version": "1.2.0",
            "_view_name": "LayoutView",
            "align_content": null,
            "align_items": null,
            "align_self": null,
            "border": null,
            "bottom": null,
            "display": null,
            "flex": null,
            "flex_flow": null,
            "grid_area": null,
            "grid_auto_columns": null,
            "grid_auto_flow": null,
            "grid_auto_rows": null,
            "grid_column": null,
            "grid_gap": null,
            "grid_row": null,
            "grid_template_areas": null,
            "grid_template_columns": null,
            "grid_template_rows": null,
            "height": null,
            "justify_content": null,
            "justify_items": null,
            "left": null,
            "margin": null,
            "max_height": null,
            "max_width": null,
            "min_height": null,
            "min_width": null,
            "object_fit": null,
            "object_position": null,
            "order": null,
            "overflow": null,
            "overflow_x": null,
            "overflow_y": null,
            "padding": null,
            "right": null,
            "top": null,
            "visibility": null,
            "width": null
          }
        },
        "602bf0ffefbd42629f0ba738af9acbf2": {
          "model_module": "@jupyter-widgets/base",
          "model_name": "LayoutModel",
          "model_module_version": "1.2.0",
          "state": {
            "_model_module": "@jupyter-widgets/base",
            "_model_module_version": "1.2.0",
            "_model_name": "LayoutModel",
            "_view_count": null,
            "_view_module": "@jupyter-widgets/base",
            "_view_module_version": "1.2.0",
            "_view_name": "LayoutView",
            "align_content": null,
            "align_items": null,
            "align_self": null,
            "border": null,
            "bottom": null,
            "display": null,
            "flex": null,
            "flex_flow": null,
            "grid_area": null,
            "grid_auto_columns": null,
            "grid_auto_flow": null,
            "grid_auto_rows": null,
            "grid_column": null,
            "grid_gap": null,
            "grid_row": null,
            "grid_template_areas": null,
            "grid_template_columns": null,
            "grid_template_rows": null,
            "height": null,
            "justify_content": null,
            "justify_items": null,
            "left": null,
            "margin": null,
            "max_height": null,
            "max_width": null,
            "min_height": null,
            "min_width": null,
            "object_fit": null,
            "object_position": null,
            "order": null,
            "overflow": null,
            "overflow_x": null,
            "overflow_y": null,
            "padding": null,
            "right": null,
            "top": null,
            "visibility": null,
            "width": null
          }
        },
        "77d205d6b45d4701aefb7e88f6dd451a": {
          "model_module": "@jupyter-widgets/controls",
          "model_name": "DescriptionStyleModel",
          "model_module_version": "1.5.0",
          "state": {
            "_model_module": "@jupyter-widgets/controls",
            "_model_module_version": "1.5.0",
            "_model_name": "DescriptionStyleModel",
            "_view_count": null,
            "_view_module": "@jupyter-widgets/base",
            "_view_module_version": "1.2.0",
            "_view_name": "StyleView",
            "description_width": ""
          }
        },
        "79af673da8934cd4a17ce48b45742c43": {
          "model_module": "@jupyter-widgets/base",
          "model_name": "LayoutModel",
          "model_module_version": "1.2.0",
          "state": {
            "_model_module": "@jupyter-widgets/base",
            "_model_module_version": "1.2.0",
            "_model_name": "LayoutModel",
            "_view_count": null,
            "_view_module": "@jupyter-widgets/base",
            "_view_module_version": "1.2.0",
            "_view_name": "LayoutView",
            "align_content": null,
            "align_items": null,
            "align_self": null,
            "border": null,
            "bottom": null,
            "display": null,
            "flex": null,
            "flex_flow": null,
            "grid_area": null,
            "grid_auto_columns": null,
            "grid_auto_flow": null,
            "grid_auto_rows": null,
            "grid_column": null,
            "grid_gap": null,
            "grid_row": null,
            "grid_template_areas": null,
            "grid_template_columns": null,
            "grid_template_rows": null,
            "height": null,
            "justify_content": null,
            "justify_items": null,
            "left": null,
            "margin": null,
            "max_height": null,
            "max_width": null,
            "min_height": null,
            "min_width": null,
            "object_fit": null,
            "object_position": null,
            "order": null,
            "overflow": null,
            "overflow_x": null,
            "overflow_y": null,
            "padding": null,
            "right": null,
            "top": null,
            "visibility": null,
            "width": null
          }
        },
        "d18de9c2722a430aaeb2374c555ef79a": {
          "model_module": "@jupyter-widgets/controls",
          "model_name": "ProgressStyleModel",
          "model_module_version": "1.5.0",
          "state": {
            "_model_module": "@jupyter-widgets/controls",
            "_model_module_version": "1.5.0",
            "_model_name": "ProgressStyleModel",
            "_view_count": null,
            "_view_module": "@jupyter-widgets/base",
            "_view_module_version": "1.2.0",
            "_view_name": "StyleView",
            "bar_color": null,
            "description_width": ""
          }
        },
        "8004b8af160a4ab78e80f400f03568e1": {
          "model_module": "@jupyter-widgets/base",
          "model_name": "LayoutModel",
          "model_module_version": "1.2.0",
          "state": {
            "_model_module": "@jupyter-widgets/base",
            "_model_module_version": "1.2.0",
            "_model_name": "LayoutModel",
            "_view_count": null,
            "_view_module": "@jupyter-widgets/base",
            "_view_module_version": "1.2.0",
            "_view_name": "LayoutView",
            "align_content": null,
            "align_items": null,
            "align_self": null,
            "border": null,
            "bottom": null,
            "display": null,
            "flex": null,
            "flex_flow": null,
            "grid_area": null,
            "grid_auto_columns": null,
            "grid_auto_flow": null,
            "grid_auto_rows": null,
            "grid_column": null,
            "grid_gap": null,
            "grid_row": null,
            "grid_template_areas": null,
            "grid_template_columns": null,
            "grid_template_rows": null,
            "height": null,
            "justify_content": null,
            "justify_items": null,
            "left": null,
            "margin": null,
            "max_height": null,
            "max_width": null,
            "min_height": null,
            "min_width": null,
            "object_fit": null,
            "object_position": null,
            "order": null,
            "overflow": null,
            "overflow_x": null,
            "overflow_y": null,
            "padding": null,
            "right": null,
            "top": null,
            "visibility": null,
            "width": null
          }
        },
        "8687248783924b00a5a0200033b217ed": {
          "model_module": "@jupyter-widgets/controls",
          "model_name": "DescriptionStyleModel",
          "model_module_version": "1.5.0",
          "state": {
            "_model_module": "@jupyter-widgets/controls",
            "_model_module_version": "1.5.0",
            "_model_name": "DescriptionStyleModel",
            "_view_count": null,
            "_view_module": "@jupyter-widgets/base",
            "_view_module_version": "1.2.0",
            "_view_name": "StyleView",
            "description_width": ""
          }
        },
        "3c77eb53f8004396b6f4a1adee5b732d": {
          "model_module": "@jupyter-widgets/controls",
          "model_name": "HBoxModel",
          "model_module_version": "1.5.0",
          "state": {
            "_dom_classes": [],
            "_model_module": "@jupyter-widgets/controls",
            "_model_module_version": "1.5.0",
            "_model_name": "HBoxModel",
            "_view_count": null,
            "_view_module": "@jupyter-widgets/controls",
            "_view_module_version": "1.5.0",
            "_view_name": "HBoxView",
            "box_style": "",
            "children": [
              "IPY_MODEL_1f013016d3024f7bb5e7170da4dfc48e",
              "IPY_MODEL_f611d55b4cbc4a68b5e2084a660852eb",
              "IPY_MODEL_fb671e7849424c4f8945232f40488559"
            ],
            "layout": "IPY_MODEL_763aa468656e4e0aa434a6b005d760e8"
          }
        },
        "1f013016d3024f7bb5e7170da4dfc48e": {
          "model_module": "@jupyter-widgets/controls",
          "model_name": "HTMLModel",
          "model_module_version": "1.5.0",
          "state": {
            "_dom_classes": [],
            "_model_module": "@jupyter-widgets/controls",
            "_model_module_version": "1.5.0",
            "_model_name": "HTMLModel",
            "_view_count": null,
            "_view_module": "@jupyter-widgets/controls",
            "_view_module_version": "1.5.0",
            "_view_name": "HTMLView",
            "description": "",
            "description_tooltip": null,
            "layout": "IPY_MODEL_9c180fa3eaab45f0834e17344d8c533e",
            "placeholder": "​",
            "style": "IPY_MODEL_62ad21a33bff4dd7aa9edec859a767e6",
            "value": "Downloading data: 100%"
          }
        },
        "f611d55b4cbc4a68b5e2084a660852eb": {
          "model_module": "@jupyter-widgets/controls",
          "model_name": "FloatProgressModel",
          "model_module_version": "1.5.0",
          "state": {
            "_dom_classes": [],
            "_model_module": "@jupyter-widgets/controls",
            "_model_module_version": "1.5.0",
            "_model_name": "FloatProgressModel",
            "_view_count": null,
            "_view_module": "@jupyter-widgets/controls",
            "_view_module_version": "1.5.0",
            "_view_name": "ProgressView",
            "bar_style": "success",
            "description": "",
            "description_tooltip": null,
            "layout": "IPY_MODEL_92149df644c347548cdb3b72625d5edd",
            "max": 5175617,
            "min": 0,
            "orientation": "horizontal",
            "style": "IPY_MODEL_f8f9bb647e764be2bdbe2d35621e4790",
            "value": 5175617
          }
        },
        "fb671e7849424c4f8945232f40488559": {
          "model_module": "@jupyter-widgets/controls",
          "model_name": "HTMLModel",
          "model_module_version": "1.5.0",
          "state": {
            "_dom_classes": [],
            "_model_module": "@jupyter-widgets/controls",
            "_model_module_version": "1.5.0",
            "_model_name": "HTMLModel",
            "_view_count": null,
            "_view_module": "@jupyter-widgets/controls",
            "_view_module_version": "1.5.0",
            "_view_name": "HTMLView",
            "description": "",
            "description_tooltip": null,
            "layout": "IPY_MODEL_3863a2e48050459db56f368633d6f315",
            "placeholder": "​",
            "style": "IPY_MODEL_523ef81a58a94626b78027745e7fa87d",
            "value": " 5.18M/5.18M [00:00&lt;00:00, 11.4MB/s]"
          }
        },
        "763aa468656e4e0aa434a6b005d760e8": {
          "model_module": "@jupyter-widgets/base",
          "model_name": "LayoutModel",
          "model_module_version": "1.2.0",
          "state": {
            "_model_module": "@jupyter-widgets/base",
            "_model_module_version": "1.2.0",
            "_model_name": "LayoutModel",
            "_view_count": null,
            "_view_module": "@jupyter-widgets/base",
            "_view_module_version": "1.2.0",
            "_view_name": "LayoutView",
            "align_content": null,
            "align_items": null,
            "align_self": null,
            "border": null,
            "bottom": null,
            "display": null,
            "flex": null,
            "flex_flow": null,
            "grid_area": null,
            "grid_auto_columns": null,
            "grid_auto_flow": null,
            "grid_auto_rows": null,
            "grid_column": null,
            "grid_gap": null,
            "grid_row": null,
            "grid_template_areas": null,
            "grid_template_columns": null,
            "grid_template_rows": null,
            "height": null,
            "justify_content": null,
            "justify_items": null,
            "left": null,
            "margin": null,
            "max_height": null,
            "max_width": null,
            "min_height": null,
            "min_width": null,
            "object_fit": null,
            "object_position": null,
            "order": null,
            "overflow": null,
            "overflow_x": null,
            "overflow_y": null,
            "padding": null,
            "right": null,
            "top": null,
            "visibility": null,
            "width": null
          }
        },
        "9c180fa3eaab45f0834e17344d8c533e": {
          "model_module": "@jupyter-widgets/base",
          "model_name": "LayoutModel",
          "model_module_version": "1.2.0",
          "state": {
            "_model_module": "@jupyter-widgets/base",
            "_model_module_version": "1.2.0",
            "_model_name": "LayoutModel",
            "_view_count": null,
            "_view_module": "@jupyter-widgets/base",
            "_view_module_version": "1.2.0",
            "_view_name": "LayoutView",
            "align_content": null,
            "align_items": null,
            "align_self": null,
            "border": null,
            "bottom": null,
            "display": null,
            "flex": null,
            "flex_flow": null,
            "grid_area": null,
            "grid_auto_columns": null,
            "grid_auto_flow": null,
            "grid_auto_rows": null,
            "grid_column": null,
            "grid_gap": null,
            "grid_row": null,
            "grid_template_areas": null,
            "grid_template_columns": null,
            "grid_template_rows": null,
            "height": null,
            "justify_content": null,
            "justify_items": null,
            "left": null,
            "margin": null,
            "max_height": null,
            "max_width": null,
            "min_height": null,
            "min_width": null,
            "object_fit": null,
            "object_position": null,
            "order": null,
            "overflow": null,
            "overflow_x": null,
            "overflow_y": null,
            "padding": null,
            "right": null,
            "top": null,
            "visibility": null,
            "width": null
          }
        },
        "62ad21a33bff4dd7aa9edec859a767e6": {
          "model_module": "@jupyter-widgets/controls",
          "model_name": "DescriptionStyleModel",
          "model_module_version": "1.5.0",
          "state": {
            "_model_module": "@jupyter-widgets/controls",
            "_model_module_version": "1.5.0",
            "_model_name": "DescriptionStyleModel",
            "_view_count": null,
            "_view_module": "@jupyter-widgets/base",
            "_view_module_version": "1.2.0",
            "_view_name": "StyleView",
            "description_width": ""
          }
        },
        "92149df644c347548cdb3b72625d5edd": {
          "model_module": "@jupyter-widgets/base",
          "model_name": "LayoutModel",
          "model_module_version": "1.2.0",
          "state": {
            "_model_module": "@jupyter-widgets/base",
            "_model_module_version": "1.2.0",
            "_model_name": "LayoutModel",
            "_view_count": null,
            "_view_module": "@jupyter-widgets/base",
            "_view_module_version": "1.2.0",
            "_view_name": "LayoutView",
            "align_content": null,
            "align_items": null,
            "align_self": null,
            "border": null,
            "bottom": null,
            "display": null,
            "flex": null,
            "flex_flow": null,
            "grid_area": null,
            "grid_auto_columns": null,
            "grid_auto_flow": null,
            "grid_auto_rows": null,
            "grid_column": null,
            "grid_gap": null,
            "grid_row": null,
            "grid_template_areas": null,
            "grid_template_columns": null,
            "grid_template_rows": null,
            "height": null,
            "justify_content": null,
            "justify_items": null,
            "left": null,
            "margin": null,
            "max_height": null,
            "max_width": null,
            "min_height": null,
            "min_width": null,
            "object_fit": null,
            "object_position": null,
            "order": null,
            "overflow": null,
            "overflow_x": null,
            "overflow_y": null,
            "padding": null,
            "right": null,
            "top": null,
            "visibility": null,
            "width": null
          }
        },
        "f8f9bb647e764be2bdbe2d35621e4790": {
          "model_module": "@jupyter-widgets/controls",
          "model_name": "ProgressStyleModel",
          "model_module_version": "1.5.0",
          "state": {
            "_model_module": "@jupyter-widgets/controls",
            "_model_module_version": "1.5.0",
            "_model_name": "ProgressStyleModel",
            "_view_count": null,
            "_view_module": "@jupyter-widgets/base",
            "_view_module_version": "1.2.0",
            "_view_name": "StyleView",
            "bar_color": null,
            "description_width": ""
          }
        },
        "3863a2e48050459db56f368633d6f315": {
          "model_module": "@jupyter-widgets/base",
          "model_name": "LayoutModel",
          "model_module_version": "1.2.0",
          "state": {
            "_model_module": "@jupyter-widgets/base",
            "_model_module_version": "1.2.0",
            "_model_name": "LayoutModel",
            "_view_count": null,
            "_view_module": "@jupyter-widgets/base",
            "_view_module_version": "1.2.0",
            "_view_name": "LayoutView",
            "align_content": null,
            "align_items": null,
            "align_self": null,
            "border": null,
            "bottom": null,
            "display": null,
            "flex": null,
            "flex_flow": null,
            "grid_area": null,
            "grid_auto_columns": null,
            "grid_auto_flow": null,
            "grid_auto_rows": null,
            "grid_column": null,
            "grid_gap": null,
            "grid_row": null,
            "grid_template_areas": null,
            "grid_template_columns": null,
            "grid_template_rows": null,
            "height": null,
            "justify_content": null,
            "justify_items": null,
            "left": null,
            "margin": null,
            "max_height": null,
            "max_width": null,
            "min_height": null,
            "min_width": null,
            "object_fit": null,
            "object_position": null,
            "order": null,
            "overflow": null,
            "overflow_x": null,
            "overflow_y": null,
            "padding": null,
            "right": null,
            "top": null,
            "visibility": null,
            "width": null
          }
        },
        "523ef81a58a94626b78027745e7fa87d": {
          "model_module": "@jupyter-widgets/controls",
          "model_name": "DescriptionStyleModel",
          "model_module_version": "1.5.0",
          "state": {
            "_model_module": "@jupyter-widgets/controls",
            "_model_module_version": "1.5.0",
            "_model_name": "DescriptionStyleModel",
            "_view_count": null,
            "_view_module": "@jupyter-widgets/base",
            "_view_module_version": "1.2.0",
            "_view_name": "StyleView",
            "description_width": ""
          }
        },
        "bbc4c73af6b74458a65f2b726e7cbe35": {
          "model_module": "@jupyter-widgets/controls",
          "model_name": "HBoxModel",
          "model_module_version": "1.5.0",
          "state": {
            "_dom_classes": [],
            "_model_module": "@jupyter-widgets/controls",
            "_model_module_version": "1.5.0",
            "_model_name": "HBoxModel",
            "_view_count": null,
            "_view_module": "@jupyter-widgets/controls",
            "_view_module_version": "1.5.0",
            "_view_name": "HBoxView",
            "box_style": "",
            "children": [
              "IPY_MODEL_1789508bb43942cab5d68afed4a692fc",
              "IPY_MODEL_babdcb4e665e4baf9c11c528f7d07098",
              "IPY_MODEL_c12ca4696ab846968f286ba0ce747b1a"
            ],
            "layout": "IPY_MODEL_36b7407e8ddd4c858720176c7c34f250"
          }
        },
        "1789508bb43942cab5d68afed4a692fc": {
          "model_module": "@jupyter-widgets/controls",
          "model_name": "HTMLModel",
          "model_module_version": "1.5.0",
          "state": {
            "_dom_classes": [],
            "_model_module": "@jupyter-widgets/controls",
            "_model_module_version": "1.5.0",
            "_model_name": "HTMLModel",
            "_view_count": null,
            "_view_module": "@jupyter-widgets/controls",
            "_view_module_version": "1.5.0",
            "_view_name": "HTMLView",
            "description": "",
            "description_tooltip": null,
            "layout": "IPY_MODEL_e2c1516e359043a7a74e032e447617b9",
            "placeholder": "​",
            "style": "IPY_MODEL_8dba34e3995f448f8453bab1f28d9fc4",
            "value": "Generating train split: "
          }
        },
        "babdcb4e665e4baf9c11c528f7d07098": {
          "model_module": "@jupyter-widgets/controls",
          "model_name": "FloatProgressModel",
          "model_module_version": "1.5.0",
          "state": {
            "_dom_classes": [],
            "_model_module": "@jupyter-widgets/controls",
            "_model_module_version": "1.5.0",
            "_model_name": "FloatProgressModel",
            "_view_count": null,
            "_view_module": "@jupyter-widgets/controls",
            "_view_module_version": "1.5.0",
            "_view_name": "ProgressView",
            "bar_style": "success",
            "description": "",
            "description_tooltip": null,
            "layout": "IPY_MODEL_4318ec006015481ebf1cd8701b8aaad2",
            "max": 1,
            "min": 0,
            "orientation": "horizontal",
            "style": "IPY_MODEL_f4e7f690acfa4f7aa07491ea38b26d63",
            "value": 1
          }
        },
        "c12ca4696ab846968f286ba0ce747b1a": {
          "model_module": "@jupyter-widgets/controls",
          "model_name": "HTMLModel",
          "model_module_version": "1.5.0",
          "state": {
            "_dom_classes": [],
            "_model_module": "@jupyter-widgets/controls",
            "_model_module_version": "1.5.0",
            "_model_name": "HTMLModel",
            "_view_count": null,
            "_view_module": "@jupyter-widgets/controls",
            "_view_module_version": "1.5.0",
            "_view_name": "HTMLView",
            "description": "",
            "description_tooltip": null,
            "layout": "IPY_MODEL_51badb558bb04732a8721d4f863e17fb",
            "placeholder": "​",
            "style": "IPY_MODEL_9dbab6c5a9344a20ad8d4e350e44dc73",
            "value": " 60000/0 [00:00&lt;00:00, 276585.21 examples/s]"
          }
        },
        "36b7407e8ddd4c858720176c7c34f250": {
          "model_module": "@jupyter-widgets/base",
          "model_name": "LayoutModel",
          "model_module_version": "1.2.0",
          "state": {
            "_model_module": "@jupyter-widgets/base",
            "_model_module_version": "1.2.0",
            "_model_name": "LayoutModel",
            "_view_count": null,
            "_view_module": "@jupyter-widgets/base",
            "_view_module_version": "1.2.0",
            "_view_name": "LayoutView",
            "align_content": null,
            "align_items": null,
            "align_self": null,
            "border": null,
            "bottom": null,
            "display": null,
            "flex": null,
            "flex_flow": null,
            "grid_area": null,
            "grid_auto_columns": null,
            "grid_auto_flow": null,
            "grid_auto_rows": null,
            "grid_column": null,
            "grid_gap": null,
            "grid_row": null,
            "grid_template_areas": null,
            "grid_template_columns": null,
            "grid_template_rows": null,
            "height": null,
            "justify_content": null,
            "justify_items": null,
            "left": null,
            "margin": null,
            "max_height": null,
            "max_width": null,
            "min_height": null,
            "min_width": null,
            "object_fit": null,
            "object_position": null,
            "order": null,
            "overflow": null,
            "overflow_x": null,
            "overflow_y": null,
            "padding": null,
            "right": null,
            "top": null,
            "visibility": null,
            "width": null
          }
        },
        "e2c1516e359043a7a74e032e447617b9": {
          "model_module": "@jupyter-widgets/base",
          "model_name": "LayoutModel",
          "model_module_version": "1.2.0",
          "state": {
            "_model_module": "@jupyter-widgets/base",
            "_model_module_version": "1.2.0",
            "_model_name": "LayoutModel",
            "_view_count": null,
            "_view_module": "@jupyter-widgets/base",
            "_view_module_version": "1.2.0",
            "_view_name": "LayoutView",
            "align_content": null,
            "align_items": null,
            "align_self": null,
            "border": null,
            "bottom": null,
            "display": null,
            "flex": null,
            "flex_flow": null,
            "grid_area": null,
            "grid_auto_columns": null,
            "grid_auto_flow": null,
            "grid_auto_rows": null,
            "grid_column": null,
            "grid_gap": null,
            "grid_row": null,
            "grid_template_areas": null,
            "grid_template_columns": null,
            "grid_template_rows": null,
            "height": null,
            "justify_content": null,
            "justify_items": null,
            "left": null,
            "margin": null,
            "max_height": null,
            "max_width": null,
            "min_height": null,
            "min_width": null,
            "object_fit": null,
            "object_position": null,
            "order": null,
            "overflow": null,
            "overflow_x": null,
            "overflow_y": null,
            "padding": null,
            "right": null,
            "top": null,
            "visibility": null,
            "width": null
          }
        },
        "8dba34e3995f448f8453bab1f28d9fc4": {
          "model_module": "@jupyter-widgets/controls",
          "model_name": "DescriptionStyleModel",
          "model_module_version": "1.5.0",
          "state": {
            "_model_module": "@jupyter-widgets/controls",
            "_model_module_version": "1.5.0",
            "_model_name": "DescriptionStyleModel",
            "_view_count": null,
            "_view_module": "@jupyter-widgets/base",
            "_view_module_version": "1.2.0",
            "_view_name": "StyleView",
            "description_width": ""
          }
        },
        "4318ec006015481ebf1cd8701b8aaad2": {
          "model_module": "@jupyter-widgets/base",
          "model_name": "LayoutModel",
          "model_module_version": "1.2.0",
          "state": {
            "_model_module": "@jupyter-widgets/base",
            "_model_module_version": "1.2.0",
            "_model_name": "LayoutModel",
            "_view_count": null,
            "_view_module": "@jupyter-widgets/base",
            "_view_module_version": "1.2.0",
            "_view_name": "LayoutView",
            "align_content": null,
            "align_items": null,
            "align_self": null,
            "border": null,
            "bottom": null,
            "display": null,
            "flex": null,
            "flex_flow": null,
            "grid_area": null,
            "grid_auto_columns": null,
            "grid_auto_flow": null,
            "grid_auto_rows": null,
            "grid_column": null,
            "grid_gap": null,
            "grid_row": null,
            "grid_template_areas": null,
            "grid_template_columns": null,
            "grid_template_rows": null,
            "height": null,
            "justify_content": null,
            "justify_items": null,
            "left": null,
            "margin": null,
            "max_height": null,
            "max_width": null,
            "min_height": null,
            "min_width": null,
            "object_fit": null,
            "object_position": null,
            "order": null,
            "overflow": null,
            "overflow_x": null,
            "overflow_y": null,
            "padding": null,
            "right": null,
            "top": null,
            "visibility": null,
            "width": "20px"
          }
        },
        "f4e7f690acfa4f7aa07491ea38b26d63": {
          "model_module": "@jupyter-widgets/controls",
          "model_name": "ProgressStyleModel",
          "model_module_version": "1.5.0",
          "state": {
            "_model_module": "@jupyter-widgets/controls",
            "_model_module_version": "1.5.0",
            "_model_name": "ProgressStyleModel",
            "_view_count": null,
            "_view_module": "@jupyter-widgets/base",
            "_view_module_version": "1.2.0",
            "_view_name": "StyleView",
            "bar_color": null,
            "description_width": ""
          }
        },
        "51badb558bb04732a8721d4f863e17fb": {
          "model_module": "@jupyter-widgets/base",
          "model_name": "LayoutModel",
          "model_module_version": "1.2.0",
          "state": {
            "_model_module": "@jupyter-widgets/base",
            "_model_module_version": "1.2.0",
            "_model_name": "LayoutModel",
            "_view_count": null,
            "_view_module": "@jupyter-widgets/base",
            "_view_module_version": "1.2.0",
            "_view_name": "LayoutView",
            "align_content": null,
            "align_items": null,
            "align_self": null,
            "border": null,
            "bottom": null,
            "display": null,
            "flex": null,
            "flex_flow": null,
            "grid_area": null,
            "grid_auto_columns": null,
            "grid_auto_flow": null,
            "grid_auto_rows": null,
            "grid_column": null,
            "grid_gap": null,
            "grid_row": null,
            "grid_template_areas": null,
            "grid_template_columns": null,
            "grid_template_rows": null,
            "height": null,
            "justify_content": null,
            "justify_items": null,
            "left": null,
            "margin": null,
            "max_height": null,
            "max_width": null,
            "min_height": null,
            "min_width": null,
            "object_fit": null,
            "object_position": null,
            "order": null,
            "overflow": null,
            "overflow_x": null,
            "overflow_y": null,
            "padding": null,
            "right": null,
            "top": null,
            "visibility": null,
            "width": null
          }
        },
        "9dbab6c5a9344a20ad8d4e350e44dc73": {
          "model_module": "@jupyter-widgets/controls",
          "model_name": "DescriptionStyleModel",
          "model_module_version": "1.5.0",
          "state": {
            "_model_module": "@jupyter-widgets/controls",
            "_model_module_version": "1.5.0",
            "_model_name": "DescriptionStyleModel",
            "_view_count": null,
            "_view_module": "@jupyter-widgets/base",
            "_view_module_version": "1.2.0",
            "_view_name": "StyleView",
            "description_width": ""
          }
        },
        "cd7ee486e71e47a791ff90ecbd3b3f59": {
          "model_module": "@jupyter-widgets/controls",
          "model_name": "HBoxModel",
          "model_module_version": "1.5.0",
          "state": {
            "_dom_classes": [],
            "_model_module": "@jupyter-widgets/controls",
            "_model_module_version": "1.5.0",
            "_model_name": "HBoxModel",
            "_view_count": null,
            "_view_module": "@jupyter-widgets/controls",
            "_view_module_version": "1.5.0",
            "_view_name": "HBoxView",
            "box_style": "",
            "children": [
              "IPY_MODEL_d50e07dbdc024dfbaf0364a3278aa201",
              "IPY_MODEL_cfcf7ee017fe4905bbb78dff0172e6e4",
              "IPY_MODEL_ed8095763c3447bf8697b76562b35ff9"
            ],
            "layout": "IPY_MODEL_1acc934dc3164b3ca0772857f225f621"
          }
        },
        "d50e07dbdc024dfbaf0364a3278aa201": {
          "model_module": "@jupyter-widgets/controls",
          "model_name": "HTMLModel",
          "model_module_version": "1.5.0",
          "state": {
            "_dom_classes": [],
            "_model_module": "@jupyter-widgets/controls",
            "_model_module_version": "1.5.0",
            "_model_name": "HTMLModel",
            "_view_count": null,
            "_view_module": "@jupyter-widgets/controls",
            "_view_module_version": "1.5.0",
            "_view_name": "HTMLView",
            "description": "",
            "description_tooltip": null,
            "layout": "IPY_MODEL_d9bdadc0c4f34fa2b7c67854695d8a9e",
            "placeholder": "​",
            "style": "IPY_MODEL_32c3328f27364e06ae61a2c9491b0bc3",
            "value": "Generating test split: "
          }
        },
        "cfcf7ee017fe4905bbb78dff0172e6e4": {
          "model_module": "@jupyter-widgets/controls",
          "model_name": "FloatProgressModel",
          "model_module_version": "1.5.0",
          "state": {
            "_dom_classes": [],
            "_model_module": "@jupyter-widgets/controls",
            "_model_module_version": "1.5.0",
            "_model_name": "FloatProgressModel",
            "_view_count": null,
            "_view_module": "@jupyter-widgets/controls",
            "_view_module_version": "1.5.0",
            "_view_name": "ProgressView",
            "bar_style": "success",
            "description": "",
            "description_tooltip": null,
            "layout": "IPY_MODEL_2cdc2bd5cde6483e815a265a8b6dc299",
            "max": 1,
            "min": 0,
            "orientation": "horizontal",
            "style": "IPY_MODEL_1897fd5fbedd4c5ea7ee22c1942a2b6e",
            "value": 1
          }
        },
        "ed8095763c3447bf8697b76562b35ff9": {
          "model_module": "@jupyter-widgets/controls",
          "model_name": "HTMLModel",
          "model_module_version": "1.5.0",
          "state": {
            "_dom_classes": [],
            "_model_module": "@jupyter-widgets/controls",
            "_model_module_version": "1.5.0",
            "_model_name": "HTMLModel",
            "_view_count": null,
            "_view_module": "@jupyter-widgets/controls",
            "_view_module_version": "1.5.0",
            "_view_name": "HTMLView",
            "description": "",
            "description_tooltip": null,
            "layout": "IPY_MODEL_a40fb594de2a44a1bf8d4867266a5588",
            "placeholder": "​",
            "style": "IPY_MODEL_f7987c1fc52c44f08498474035ddcaff",
            "value": " 10000/0 [00:00&lt;00:00, 142598.41 examples/s]"
          }
        },
        "1acc934dc3164b3ca0772857f225f621": {
          "model_module": "@jupyter-widgets/base",
          "model_name": "LayoutModel",
          "model_module_version": "1.2.0",
          "state": {
            "_model_module": "@jupyter-widgets/base",
            "_model_module_version": "1.2.0",
            "_model_name": "LayoutModel",
            "_view_count": null,
            "_view_module": "@jupyter-widgets/base",
            "_view_module_version": "1.2.0",
            "_view_name": "LayoutView",
            "align_content": null,
            "align_items": null,
            "align_self": null,
            "border": null,
            "bottom": null,
            "display": null,
            "flex": null,
            "flex_flow": null,
            "grid_area": null,
            "grid_auto_columns": null,
            "grid_auto_flow": null,
            "grid_auto_rows": null,
            "grid_column": null,
            "grid_gap": null,
            "grid_row": null,
            "grid_template_areas": null,
            "grid_template_columns": null,
            "grid_template_rows": null,
            "height": null,
            "justify_content": null,
            "justify_items": null,
            "left": null,
            "margin": null,
            "max_height": null,
            "max_width": null,
            "min_height": null,
            "min_width": null,
            "object_fit": null,
            "object_position": null,
            "order": null,
            "overflow": null,
            "overflow_x": null,
            "overflow_y": null,
            "padding": null,
            "right": null,
            "top": null,
            "visibility": null,
            "width": null
          }
        },
        "d9bdadc0c4f34fa2b7c67854695d8a9e": {
          "model_module": "@jupyter-widgets/base",
          "model_name": "LayoutModel",
          "model_module_version": "1.2.0",
          "state": {
            "_model_module": "@jupyter-widgets/base",
            "_model_module_version": "1.2.0",
            "_model_name": "LayoutModel",
            "_view_count": null,
            "_view_module": "@jupyter-widgets/base",
            "_view_module_version": "1.2.0",
            "_view_name": "LayoutView",
            "align_content": null,
            "align_items": null,
            "align_self": null,
            "border": null,
            "bottom": null,
            "display": null,
            "flex": null,
            "flex_flow": null,
            "grid_area": null,
            "grid_auto_columns": null,
            "grid_auto_flow": null,
            "grid_auto_rows": null,
            "grid_column": null,
            "grid_gap": null,
            "grid_row": null,
            "grid_template_areas": null,
            "grid_template_columns": null,
            "grid_template_rows": null,
            "height": null,
            "justify_content": null,
            "justify_items": null,
            "left": null,
            "margin": null,
            "max_height": null,
            "max_width": null,
            "min_height": null,
            "min_width": null,
            "object_fit": null,
            "object_position": null,
            "order": null,
            "overflow": null,
            "overflow_x": null,
            "overflow_y": null,
            "padding": null,
            "right": null,
            "top": null,
            "visibility": null,
            "width": null
          }
        },
        "32c3328f27364e06ae61a2c9491b0bc3": {
          "model_module": "@jupyter-widgets/controls",
          "model_name": "DescriptionStyleModel",
          "model_module_version": "1.5.0",
          "state": {
            "_model_module": "@jupyter-widgets/controls",
            "_model_module_version": "1.5.0",
            "_model_name": "DescriptionStyleModel",
            "_view_count": null,
            "_view_module": "@jupyter-widgets/base",
            "_view_module_version": "1.2.0",
            "_view_name": "StyleView",
            "description_width": ""
          }
        },
        "2cdc2bd5cde6483e815a265a8b6dc299": {
          "model_module": "@jupyter-widgets/base",
          "model_name": "LayoutModel",
          "model_module_version": "1.2.0",
          "state": {
            "_model_module": "@jupyter-widgets/base",
            "_model_module_version": "1.2.0",
            "_model_name": "LayoutModel",
            "_view_count": null,
            "_view_module": "@jupyter-widgets/base",
            "_view_module_version": "1.2.0",
            "_view_name": "LayoutView",
            "align_content": null,
            "align_items": null,
            "align_self": null,
            "border": null,
            "bottom": null,
            "display": null,
            "flex": null,
            "flex_flow": null,
            "grid_area": null,
            "grid_auto_columns": null,
            "grid_auto_flow": null,
            "grid_auto_rows": null,
            "grid_column": null,
            "grid_gap": null,
            "grid_row": null,
            "grid_template_areas": null,
            "grid_template_columns": null,
            "grid_template_rows": null,
            "height": null,
            "justify_content": null,
            "justify_items": null,
            "left": null,
            "margin": null,
            "max_height": null,
            "max_width": null,
            "min_height": null,
            "min_width": null,
            "object_fit": null,
            "object_position": null,
            "order": null,
            "overflow": null,
            "overflow_x": null,
            "overflow_y": null,
            "padding": null,
            "right": null,
            "top": null,
            "visibility": null,
            "width": "20px"
          }
        },
        "1897fd5fbedd4c5ea7ee22c1942a2b6e": {
          "model_module": "@jupyter-widgets/controls",
          "model_name": "ProgressStyleModel",
          "model_module_version": "1.5.0",
          "state": {
            "_model_module": "@jupyter-widgets/controls",
            "_model_module_version": "1.5.0",
            "_model_name": "ProgressStyleModel",
            "_view_count": null,
            "_view_module": "@jupyter-widgets/base",
            "_view_module_version": "1.2.0",
            "_view_name": "StyleView",
            "bar_color": null,
            "description_width": ""
          }
        },
        "a40fb594de2a44a1bf8d4867266a5588": {
          "model_module": "@jupyter-widgets/base",
          "model_name": "LayoutModel",
          "model_module_version": "1.2.0",
          "state": {
            "_model_module": "@jupyter-widgets/base",
            "_model_module_version": "1.2.0",
            "_model_name": "LayoutModel",
            "_view_count": null,
            "_view_module": "@jupyter-widgets/base",
            "_view_module_version": "1.2.0",
            "_view_name": "LayoutView",
            "align_content": null,
            "align_items": null,
            "align_self": null,
            "border": null,
            "bottom": null,
            "display": null,
            "flex": null,
            "flex_flow": null,
            "grid_area": null,
            "grid_auto_columns": null,
            "grid_auto_flow": null,
            "grid_auto_rows": null,
            "grid_column": null,
            "grid_gap": null,
            "grid_row": null,
            "grid_template_areas": null,
            "grid_template_columns": null,
            "grid_template_rows": null,
            "height": null,
            "justify_content": null,
            "justify_items": null,
            "left": null,
            "margin": null,
            "max_height": null,
            "max_width": null,
            "min_height": null,
            "min_width": null,
            "object_fit": null,
            "object_position": null,
            "order": null,
            "overflow": null,
            "overflow_x": null,
            "overflow_y": null,
            "padding": null,
            "right": null,
            "top": null,
            "visibility": null,
            "width": null
          }
        },
        "f7987c1fc52c44f08498474035ddcaff": {
          "model_module": "@jupyter-widgets/controls",
          "model_name": "DescriptionStyleModel",
          "model_module_version": "1.5.0",
          "state": {
            "_model_module": "@jupyter-widgets/controls",
            "_model_module_version": "1.5.0",
            "_model_name": "DescriptionStyleModel",
            "_view_count": null,
            "_view_module": "@jupyter-widgets/base",
            "_view_module_version": "1.2.0",
            "_view_name": "StyleView",
            "description_width": ""
          }
        }
      }
    }
  },
  "cells": [
    {
      "cell_type": "markdown",
      "metadata": {
        "id": "view-in-github",
        "colab_type": "text"
      },
      "source": [
        "<a href=\"https://colab.research.google.com/github/pranay8297/Stable-Diffusion-Experiments/blob/main/basics.ipynb\" target=\"_parent\"><img src=\"https://colab.research.google.com/assets/colab-badge.svg\" alt=\"Open In Colab\"/></a>"
      ]
    },
    {
      "cell_type": "code",
      "execution_count": 2,
      "metadata": {
        "colab": {
          "base_uri": "https://localhost:8080/"
        },
        "id": "-B1PSn0b3qlr",
        "outputId": "0630ccf4-4439-4dc8-b653-6729c4a93840"
      },
      "outputs": [
        {
          "output_type": "stream",
          "name": "stdout",
          "text": [
            "Collecting ipdb\n",
            "  Downloading ipdb-0.13.13-py3-none-any.whl (12 kB)\n",
            "Requirement already satisfied: ipython>=7.31.1 in /usr/local/lib/python3.10/dist-packages (from ipdb) (7.34.0)\n",
            "Requirement already satisfied: tomli in /usr/local/lib/python3.10/dist-packages (from ipdb) (2.0.1)\n",
            "Requirement already satisfied: decorator in /usr/local/lib/python3.10/dist-packages (from ipdb) (4.4.2)\n",
            "Requirement already satisfied: setuptools>=18.5 in /usr/local/lib/python3.10/dist-packages (from ipython>=7.31.1->ipdb) (67.7.2)\n",
            "Collecting jedi>=0.16 (from ipython>=7.31.1->ipdb)\n",
            "  Downloading jedi-0.19.1-py2.py3-none-any.whl (1.6 MB)\n",
            "\u001b[2K     \u001b[90m━━━━━━━━━━━━━━━━━━━━━━━━━━━━━━━━━━━━━━━━\u001b[0m \u001b[32m1.6/1.6 MB\u001b[0m \u001b[31m7.9 MB/s\u001b[0m eta \u001b[36m0:00:00\u001b[0m\n",
            "\u001b[?25hRequirement already satisfied: pickleshare in /usr/local/lib/python3.10/dist-packages (from ipython>=7.31.1->ipdb) (0.7.5)\n",
            "Requirement already satisfied: traitlets>=4.2 in /usr/local/lib/python3.10/dist-packages (from ipython>=7.31.1->ipdb) (5.7.1)\n",
            "Requirement already satisfied: prompt-toolkit!=3.0.0,!=3.0.1,<3.1.0,>=2.0.0 in /usr/local/lib/python3.10/dist-packages (from ipython>=7.31.1->ipdb) (3.0.43)\n",
            "Requirement already satisfied: pygments in /usr/local/lib/python3.10/dist-packages (from ipython>=7.31.1->ipdb) (2.16.1)\n",
            "Requirement already satisfied: backcall in /usr/local/lib/python3.10/dist-packages (from ipython>=7.31.1->ipdb) (0.2.0)\n",
            "Requirement already satisfied: matplotlib-inline in /usr/local/lib/python3.10/dist-packages (from ipython>=7.31.1->ipdb) (0.1.6)\n",
            "Requirement already satisfied: pexpect>4.3 in /usr/local/lib/python3.10/dist-packages (from ipython>=7.31.1->ipdb) (4.9.0)\n",
            "Requirement already satisfied: parso<0.9.0,>=0.8.3 in /usr/local/lib/python3.10/dist-packages (from jedi>=0.16->ipython>=7.31.1->ipdb) (0.8.3)\n",
            "Requirement already satisfied: ptyprocess>=0.5 in /usr/local/lib/python3.10/dist-packages (from pexpect>4.3->ipython>=7.31.1->ipdb) (0.7.0)\n",
            "Requirement already satisfied: wcwidth in /usr/local/lib/python3.10/dist-packages (from prompt-toolkit!=3.0.0,!=3.0.1,<3.1.0,>=2.0.0->ipython>=7.31.1->ipdb) (0.2.12)\n",
            "Installing collected packages: jedi, ipdb\n",
            "Successfully installed ipdb-0.13.13 jedi-0.19.1\n"
          ]
        }
      ],
      "source": [
        "!pip install ipdb"
      ]
    },
    {
      "cell_type": "code",
      "source": [
        "from ipdb import set_trace as st\n",
        "import torch\n",
        "import numpy as np\n",
        "\n",
        "from torch import nn\n",
        "from torch.functional import F"
      ],
      "metadata": {
        "id": "qfHMlnmKAJzX"
      },
      "execution_count": 3,
      "outputs": []
    },
    {
      "cell_type": "code",
      "source": [
        " # nn.Module\n",
        "# nn.ModuleList\n",
        "# nn.SequentialModel"
      ],
      "metadata": {
        "id": "TdiG1FFqGxie"
      },
      "execution_count": 4,
      "outputs": []
    },
    {
      "cell_type": "code",
      "source": [
        "data = torch.randn(300, 4)\n",
        "y = data[:, 0] * 4 + data[:, 1]*5 + data[:, 2]*2 + data[:, 3]*1.2 + 2\n",
        "y = y +  torch.tensor(np.linspace(-1, 1, data.shape[0])) * torch.std(y)/3\n",
        "y = y.to(torch.float32)\n",
        "x = data.clone()\n",
        "orig_y = y.clone()"
      ],
      "metadata": {
        "id": "SY-Gog62I78f"
      },
      "execution_count": 5,
      "outputs": []
    },
    {
      "cell_type": "code",
      "source": [
        "class Optimizer():\n",
        "    def __init__(self, parameters, lr):\n",
        "      self.params, self.lr = list(parameters), lr\n",
        "\n",
        "    def step(self):\n",
        "      with torch.no_grad():\n",
        "          for param in self.params:\n",
        "              param -= self.lr*param.grad\n",
        "\n",
        "    def zero_grad(self):\n",
        "        for param in self.params:\n",
        "            param.grad.data.zero_()"
      ],
      "metadata": {
        "id": "XpxWU_biHmgs"
      },
      "execution_count": 6,
      "outputs": []
    },
    {
      "cell_type": "code",
      "source": [
        "lr = 0.01\n",
        "model = nn.Sequential(nn.Linear(4, 2), nn.ReLU(), nn.Linear(2, 1))\n",
        "opt = Optimizer(model.parameters(), lr = lr)\n",
        "loss_fn = nn.MSELoss()\n",
        "def fit():\n",
        "    for i in range(2000):\n",
        "        yhat = model(x)\n",
        "        loss = loss_fn(y, yhat.squeeze())\n",
        "        loss.backward()\n",
        "        opt.step()\n",
        "        opt.zero_grad()\n",
        "        if ((i + 1) % 500 == 0):\n",
        "            print(loss.item())\n",
        "\n",
        "fit()"
      ],
      "metadata": {
        "colab": {
          "base_uri": "https://localhost:8080/"
        },
        "id": "i7aeERb_JxP3",
        "outputId": "59dbf600-76e6-49e3-e18f-7052b30698fb"
      },
      "execution_count": 7,
      "outputs": [
        {
          "output_type": "stream",
          "name": "stdout",
          "text": [
            "2.737281322479248\n",
            "2.7372758388519287\n",
            "2.737271785736084\n",
            "2.7372684478759766\n"
          ]
        }
      ]
    },
    {
      "cell_type": "markdown",
      "source": [
        "# Dataset"
      ],
      "metadata": {
        "id": "94CcFBHeawFt"
      }
    },
    {
      "cell_type": "code",
      "source": [
        "# Dataset - Object where we can index and get x and y of that index\n",
        "class Dataset():\n",
        "\n",
        "    def __init__(self, x, y):\n",
        "        self.x = x\n",
        "        self.y = y\n",
        "\n",
        "    def __getitem__(self, idx):\n",
        "        return self.x[idx], self.y[idx]\n",
        "\n",
        "    def __len__(self):\n",
        "        return self.x.shape[0]"
      ],
      "metadata": {
        "id": "vMq7vM5xcBv6"
      },
      "execution_count": 8,
      "outputs": []
    },
    {
      "cell_type": "code",
      "source": [
        "lr = 0.01\n",
        "model = nn.Sequential(nn.Linear(4, 2), nn.ReLU(), nn.Linear(2, 1))\n",
        "opt = Optimizer(model.parameters(), lr = lr)\n",
        "loss_fn = nn.MSELoss()\n",
        "bs = 32\n",
        "ds = Dataset(x, y)\n",
        "def fit():\n",
        "    # Lets do with batches this time.\n",
        "    for i in range(2001):\n",
        "        losses = []\n",
        "\n",
        "        for idx in range(0, len(ds), bs):\n",
        "            x, y = ds[idx : min((idx + bs), len(ds))]\n",
        "            yhat = model(x)\n",
        "            loss = loss_fn(y, yhat.squeeze())\n",
        "            loss.backward()\n",
        "            opt.step()\n",
        "            opt.zero_grad()\n",
        "            losses.append(loss.item())\n",
        "\n",
        "        if ((i) % 200 == 0):\n",
        "            print(f\"Mean Loss for epoch : {i + 1} is : {np.mean(losses):.2f}\")\n",
        "\n",
        "fit()"
      ],
      "metadata": {
        "colab": {
          "base_uri": "https://localhost:8080/"
        },
        "id": "wOhIQjXyKUes",
        "outputId": "1d489967-ebb4-4c99-bacf-fd41093e8cbe"
      },
      "execution_count": 9,
      "outputs": [
        {
          "output_type": "stream",
          "name": "stdout",
          "text": [
            "Mean Loss for epoch : 1 is : 51.07\n",
            "Mean Loss for epoch : 201 is : 2.36\n",
            "Mean Loss for epoch : 401 is : 2.17\n",
            "Mean Loss for epoch : 601 is : 2.12\n",
            "Mean Loss for epoch : 801 is : 2.10\n",
            "Mean Loss for epoch : 1001 is : 2.08\n",
            "Mean Loss for epoch : 1201 is : 2.07\n",
            "Mean Loss for epoch : 1401 is : 2.06\n",
            "Mean Loss for epoch : 1601 is : 2.06\n",
            "Mean Loss for epoch : 1801 is : 2.08\n",
            "Mean Loss for epoch : 2001 is : 2.08\n"
          ]
        }
      ]
    },
    {
      "cell_type": "code",
      "source": [
        "class Dataloader():\n",
        "    def __init__(self, ds, bs):\n",
        "        self.ds, self.bs = ds, bs\n",
        "    def __iter__(self):\n",
        "        for idx in range(0, len(self.ds), self.bs): yield self.ds[idx: min(len(self.ds), idx + self.bs)]"
      ],
      "metadata": {
        "id": "uq-N9H_naFHU"
      },
      "execution_count": 10,
      "outputs": []
    },
    {
      "cell_type": "code",
      "source": [
        "ds = Dataset(x, y)\n",
        "dl = Dataloader(ds, 32)"
      ],
      "metadata": {
        "id": "mBBaf4rajkNX"
      },
      "execution_count": 11,
      "outputs": []
    },
    {
      "cell_type": "code",
      "source": [
        "next(iter(dl))"
      ],
      "metadata": {
        "colab": {
          "base_uri": "https://localhost:8080/"
        },
        "id": "aieZLAI_jwKG",
        "outputId": "9ba07300-3e93-468c-a545-cebca9ec7d8f"
      },
      "execution_count": 12,
      "outputs": [
        {
          "output_type": "execute_result",
          "data": {
            "text/plain": [
              "(tensor([[-1.3364,  0.1319, -0.5889,  1.5598],\n",
              "         [ 0.9475,  0.9965,  1.7420, -1.1136],\n",
              "         [-1.8596,  0.5741,  0.2268, -0.3689],\n",
              "         [ 1.7526, -0.7104, -0.2808,  0.6842],\n",
              "         [-0.0155,  0.4945, -0.3815, -1.0076],\n",
              "         [-0.3246,  0.3486,  1.1212, -0.6414],\n",
              "         [-1.3081, -1.0966,  0.2265,  1.2214],\n",
              "         [-0.3021, -0.8100,  0.0595,  1.1766],\n",
              "         [-1.3961,  0.3857, -1.4688,  0.0611],\n",
              "         [-0.1654, -0.7675, -0.7918,  0.5665],\n",
              "         [-0.4406,  0.0741,  0.1801,  0.2138],\n",
              "         [-1.7878, -0.9283,  0.2279, -0.9137],\n",
              "         [-0.6131, -0.4105,  0.6868, -0.2743],\n",
              "         [ 0.2821,  0.0527, -0.4324, -0.5370],\n",
              "         [-1.4185,  1.2318, -0.6266, -0.4067],\n",
              "         [-0.4360,  1.8947,  0.2096,  0.7282],\n",
              "         [ 1.0738, -1.5148, -1.6040,  0.5352],\n",
              "         [ 0.4746,  1.5498, -1.1140, -0.7238],\n",
              "         [-0.0468,  0.1105,  1.3427, -0.2491],\n",
              "         [ 0.2358,  1.6073,  1.1801,  2.5731],\n",
              "         [ 0.2350, -1.5207,  0.0968, -0.2228],\n",
              "         [ 0.0213,  0.1532,  1.1868, -1.2465],\n",
              "         [ 1.1745,  0.0118, -1.2866, -1.9872],\n",
              "         [-0.0716,  0.1555,  0.8630,  0.3435],\n",
              "         [-1.1635,  0.7058, -1.1341,  1.8142],\n",
              "         [ 0.1075, -0.5298,  0.1965, -2.3724],\n",
              "         [-0.3175,  1.0343,  1.7547,  1.1783],\n",
              "         [-1.3077, -0.1898,  1.1213,  0.0333],\n",
              "         [-0.2909, -1.6307,  3.2848,  1.9456],\n",
              "         [-0.2145, -1.3637, -0.6130,  1.7385],\n",
              "         [ 0.8876,  0.4003,  1.4703,  0.4873],\n",
              "         [ 2.7647, -0.9038, -1.4501, -0.8630]]),\n",
              " tensor([ -4.2455,  10.6816,  -4.7801,   3.5095,   0.2450,   1.7390,  -8.9600,\n",
              "          -3.8753,  -6.6530,  -5.5208,  -0.8776, -12.5211,  -3.5331,  -0.1749,\n",
              "          -1.2985,   8.9951,  -5.8571,   6.5535,   2.7695,  14.4606,  -6.6898,\n",
              "           1.7918,  -0.1224,   2.7223,  -1.1077,  -4.5494,   8.9631,  -3.7438,\n",
              "          -0.2443,  -6.6330,   9.2758,   2.8179]))"
            ]
          },
          "metadata": {},
          "execution_count": 12
        }
      ]
    },
    {
      "cell_type": "code",
      "source": [
        "lr = 0.01\n",
        "model = nn.Sequential(nn.Linear(4, 2), nn.ReLU(), nn.Linear(2, 1))\n",
        "opt = Optimizer(model.parameters(), lr = lr)\n",
        "loss_fn = nn.MSELoss()\n",
        "bs = 32\n",
        "ds = Dataset(x, y)\n",
        "dl = Dataloader(ds, 32)\n",
        "\n",
        "def fit():\n",
        "    # Lets do with batches this time.\n",
        "    for i in range(1001):\n",
        "        losses = []\n",
        "        for x, y in dl:\n",
        "            yhat = model(x)\n",
        "            loss = loss_fn(y, yhat.squeeze())\n",
        "            loss.backward()\n",
        "            opt.step()\n",
        "            opt.zero_grad()\n",
        "            losses.append(loss.item())\n",
        "\n",
        "        if ((i) % 100 == 0):\n",
        "            print(f\"Mean Loss for epoch : {i + 1} is : {np.mean(losses):.2f}\")\n",
        "\n",
        "fit()"
      ],
      "metadata": {
        "colab": {
          "base_uri": "https://localhost:8080/"
        },
        "id": "VDTUr6UXo0jC",
        "outputId": "2e0a226d-9233-481a-96c8-896d01203bff"
      },
      "execution_count": 13,
      "outputs": [
        {
          "output_type": "stream",
          "name": "stdout",
          "text": [
            "Mean Loss for epoch : 1 is : 49.07\n",
            "Mean Loss for epoch : 101 is : 2.86\n",
            "Mean Loss for epoch : 201 is : 2.37\n",
            "Mean Loss for epoch : 301 is : 2.19\n",
            "Mean Loss for epoch : 401 is : 2.13\n",
            "Mean Loss for epoch : 501 is : 2.09\n",
            "Mean Loss for epoch : 601 is : 2.09\n",
            "Mean Loss for epoch : 701 is : 2.08\n",
            "Mean Loss for epoch : 801 is : 2.08\n",
            "Mean Loss for epoch : 901 is : 2.07\n",
            "Mean Loss for epoch : 1001 is : 2.07\n"
          ]
        }
      ]
    },
    {
      "cell_type": "markdown",
      "source": [
        "# Randomizing the Dataloaders"
      ],
      "metadata": {
        "id": "QyYYknF4RoSL"
      }
    },
    {
      "cell_type": "code",
      "source": [
        "iter"
      ],
      "metadata": {
        "colab": {
          "base_uri": "https://localhost:8080/"
        },
        "id": "sgW7GiZrX0iX",
        "outputId": "7aedb3cb-33dc-4c40-ad07-4ce3824ea78e"
      },
      "execution_count": 14,
      "outputs": [
        {
          "output_type": "execute_result",
          "data": {
            "text/plain": [
              "<function iter>"
            ]
          },
          "metadata": {},
          "execution_count": 14
        }
      ]
    },
    {
      "cell_type": "code",
      "source": [
        "import fastcore.all as fc\n",
        "import random"
      ],
      "metadata": {
        "id": "-vZOtPPIOjBa"
      },
      "execution_count": 15,
      "outputs": []
    },
    {
      "cell_type": "code",
      "source": [
        "# Lets create a sampler - That returns randomized indecis\n",
        "def sampler(ds, shuffle = True):\n",
        "    idxs = list(range(len(ds)))\n",
        "    if shuffle: random.shuffle(idxs)\n",
        "    return iter(idxs)"
      ],
      "metadata": {
        "id": "0ZV6dT2OTdfQ"
      },
      "execution_count": 16,
      "outputs": []
    },
    {
      "cell_type": "code",
      "source": [
        "x, y = data.clone(), orig_y.clone()\n",
        "train_x, train_y, valid_x, valid_y = x[:250], y[:250], x[250:], y[250:]\n",
        "train_ds = Dataset(train_x, train_y)\n",
        "valid_ds = Dataset(valid_x, valid_y)"
      ],
      "metadata": {
        "id": "EVPKXjAgVq4k"
      },
      "execution_count": 28,
      "outputs": []
    },
    {
      "cell_type": "code",
      "source": [
        "class BatchSampler():\n",
        "    def __init__(self, ds, bs, sampler):\n",
        "        self.ds, self.bs, self.sampler = ds, bs, sampler\n",
        "\n",
        "    def __iter__(self):\n",
        "        yield from fc.chunked(self.sampler, self.bs, drop_last = False)"
      ],
      "metadata": {
        "id": "Nfozpg5zYk8Y"
      },
      "execution_count": 29,
      "outputs": []
    },
    {
      "cell_type": "code",
      "source": [
        "train_batch_sampler = BatchSampler(train_ds, 32, sampler(train_ds, shuffle = True))\n",
        "valid_batch_sampler = BatchSampler(valid_ds, 32, sampler(valid_ds, shuffle = False))"
      ],
      "metadata": {
        "id": "xFpHSZkJZVsJ"
      },
      "execution_count": 30,
      "outputs": []
    },
    {
      "cell_type": "code",
      "source": [
        "def collate_fn(gen_obj):\n",
        "    xs, ys = zip(*gen_obj)\n",
        "    return torch.stack(xs), torch.stack(ys)"
      ],
      "metadata": {
        "id": "ynaHhzGBd_tS"
      },
      "execution_count": 20,
      "outputs": []
    },
    {
      "cell_type": "code",
      "source": [
        "[collate_fn(train_ds[i] for i in b) for b in train_batch_sampler]"
      ],
      "metadata": {
        "id": "Cju6_v8NemVn"
      },
      "execution_count": null,
      "outputs": []
    },
    {
      "cell_type": "code",
      "source": [
        "class Dataloader():\n",
        "    def __init__(self, ds, bs, shuffle = True):\n",
        "        self.ds = ds\n",
        "        self.bs = bs\n",
        "        self.sampler = BatchSampler(ds, bs, sampler(ds, shuffle = shuffle))\n",
        "\n",
        "    def __iter__(self):\n",
        "        yield from [collate_fn(self.ds[i] for i in b) for b in self.sampler]"
      ],
      "metadata": {
        "id": "lhzCYrq_ev-8"
      },
      "execution_count": 69,
      "outputs": []
    },
    {
      "cell_type": "code",
      "source": [
        "DataLoader = Dataloader"
      ],
      "metadata": {
        "id": "5Pos-xG5bSrT"
      },
      "execution_count": 68,
      "outputs": []
    },
    {
      "cell_type": "code",
      "source": [
        "lr = 0.01\n",
        "model = nn.Sequential(nn.Linear(4, 2), nn.ReLU(), nn.Linear(2, 1))\n",
        "opt = Optimizer(model.parameters(), lr = lr)\n",
        "loss_fn = nn.MSELoss()\n",
        "\n",
        "def fit():\n",
        "    # Lets do with batches this time.\n",
        "    for i in range(1001):\n",
        "        losses = []\n",
        "        for x, y in dl:\n",
        "            yhat = model(x)\n",
        "            loss = loss_fn(y, yhat.squeeze())\n",
        "            loss.backward()\n",
        "            opt.step()\n",
        "            opt.zero_grad()\n",
        "            losses.append(loss.item())\n",
        "\n",
        "        if ((i) % 100 == 0):\n",
        "            print(f\"Mean Loss for epoch : {i + 1} is : {np.mean(losses):.2f}\")\n",
        "\n",
        "fit()"
      ],
      "metadata": {
        "colab": {
          "base_uri": "https://localhost:8080/"
        },
        "id": "H8zRsncPflX9",
        "outputId": "11c30ec7-54f8-47ac-ad65-096a6a46a713"
      },
      "execution_count": 32,
      "outputs": [
        {
          "output_type": "stream",
          "name": "stdout",
          "text": [
            "Mean Loss for epoch : 1 is : 48.90\n",
            "Mean Loss for epoch : 101 is : nan\n",
            "Mean Loss for epoch : 201 is : nan\n",
            "Mean Loss for epoch : 301 is : nan\n",
            "Mean Loss for epoch : 401 is : nan\n",
            "Mean Loss for epoch : 501 is : nan\n",
            "Mean Loss for epoch : 601 is : nan\n",
            "Mean Loss for epoch : 701 is : nan\n",
            "Mean Loss for epoch : 801 is : nan\n",
            "Mean Loss for epoch : 901 is : nan\n",
            "Mean Loss for epoch : 1001 is : nan\n"
          ]
        }
      ]
    },
    {
      "cell_type": "code",
      "source": [
        "ds = Dataset(x, y)\n",
        "dl = DataLoader(ds, 32)"
      ],
      "metadata": {
        "id": "8sK_WaRRfasU"
      },
      "execution_count": 31,
      "outputs": []
    },
    {
      "cell_type": "markdown",
      "source": [
        "# Huggingface dataset"
      ],
      "metadata": {
        "id": "Tn_kCxJz3OPQ"
      }
    },
    {
      "cell_type": "code",
      "source": [
        "!pip install datasets"
      ],
      "metadata": {
        "colab": {
          "base_uri": "https://localhost:8080/"
        },
        "id": "7bBHrSb05-lo",
        "outputId": "a7439b96-2ba2-442d-9cc9-ff3992b59e5a"
      },
      "execution_count": 33,
      "outputs": [
        {
          "output_type": "stream",
          "name": "stdout",
          "text": [
            "Collecting datasets\n",
            "  Downloading datasets-2.16.0-py3-none-any.whl (507 kB)\n",
            "\u001b[2K     \u001b[90m━━━━━━━━━━━━━━━━━━━━━━━━━━━━━━━━━━━━━━━━\u001b[0m \u001b[32m507.1/507.1 kB\u001b[0m \u001b[31m6.8 MB/s\u001b[0m eta \u001b[36m0:00:00\u001b[0m\n",
            "\u001b[?25hRequirement already satisfied: filelock in /usr/local/lib/python3.10/dist-packages (from datasets) (3.13.1)\n",
            "Requirement already satisfied: numpy>=1.17 in /usr/local/lib/python3.10/dist-packages (from datasets) (1.23.5)\n",
            "Requirement already satisfied: pyarrow>=8.0.0 in /usr/local/lib/python3.10/dist-packages (from datasets) (10.0.1)\n",
            "Collecting pyarrow-hotfix (from datasets)\n",
            "  Downloading pyarrow_hotfix-0.6-py3-none-any.whl (7.9 kB)\n",
            "Collecting dill<0.3.8,>=0.3.0 (from datasets)\n",
            "  Downloading dill-0.3.7-py3-none-any.whl (115 kB)\n",
            "\u001b[2K     \u001b[90m━━━━━━━━━━━━━━━━━━━━━━━━━━━━━━━━━━━━━━━━\u001b[0m \u001b[32m115.3/115.3 kB\u001b[0m \u001b[31m15.1 MB/s\u001b[0m eta \u001b[36m0:00:00\u001b[0m\n",
            "\u001b[?25hRequirement already satisfied: pandas in /usr/local/lib/python3.10/dist-packages (from datasets) (1.5.3)\n",
            "Requirement already satisfied: requests>=2.19.0 in /usr/local/lib/python3.10/dist-packages (from datasets) (2.31.0)\n",
            "Requirement already satisfied: tqdm>=4.62.1 in /usr/local/lib/python3.10/dist-packages (from datasets) (4.66.1)\n",
            "Requirement already satisfied: xxhash in /usr/local/lib/python3.10/dist-packages (from datasets) (3.4.1)\n",
            "Collecting multiprocess (from datasets)\n",
            "  Downloading multiprocess-0.70.15-py310-none-any.whl (134 kB)\n",
            "\u001b[2K     \u001b[90m━━━━━━━━━━━━━━━━━━━━━━━━━━━━━━━━━━━━━━━━\u001b[0m \u001b[32m134.8/134.8 kB\u001b[0m \u001b[31m16.7 MB/s\u001b[0m eta \u001b[36m0:00:00\u001b[0m\n",
            "\u001b[?25hRequirement already satisfied: fsspec[http]<=2023.10.0,>=2023.1.0 in /usr/local/lib/python3.10/dist-packages (from datasets) (2023.6.0)\n",
            "Requirement already satisfied: aiohttp in /usr/local/lib/python3.10/dist-packages (from datasets) (3.9.1)\n",
            "Requirement already satisfied: huggingface-hub>=0.19.4 in /usr/local/lib/python3.10/dist-packages (from datasets) (0.19.4)\n",
            "Requirement already satisfied: packaging in /usr/local/lib/python3.10/dist-packages (from datasets) (23.2)\n",
            "Requirement already satisfied: pyyaml>=5.1 in /usr/local/lib/python3.10/dist-packages (from datasets) (6.0.1)\n",
            "Requirement already satisfied: attrs>=17.3.0 in /usr/local/lib/python3.10/dist-packages (from aiohttp->datasets) (23.1.0)\n",
            "Requirement already satisfied: multidict<7.0,>=4.5 in /usr/local/lib/python3.10/dist-packages (from aiohttp->datasets) (6.0.4)\n",
            "Requirement already satisfied: yarl<2.0,>=1.0 in /usr/local/lib/python3.10/dist-packages (from aiohttp->datasets) (1.9.4)\n",
            "Requirement already satisfied: frozenlist>=1.1.1 in /usr/local/lib/python3.10/dist-packages (from aiohttp->datasets) (1.4.1)\n",
            "Requirement already satisfied: aiosignal>=1.1.2 in /usr/local/lib/python3.10/dist-packages (from aiohttp->datasets) (1.3.1)\n",
            "Requirement already satisfied: async-timeout<5.0,>=4.0 in /usr/local/lib/python3.10/dist-packages (from aiohttp->datasets) (4.0.3)\n",
            "Requirement already satisfied: typing-extensions>=3.7.4.3 in /usr/local/lib/python3.10/dist-packages (from huggingface-hub>=0.19.4->datasets) (4.5.0)\n",
            "Requirement already satisfied: charset-normalizer<4,>=2 in /usr/local/lib/python3.10/dist-packages (from requests>=2.19.0->datasets) (3.3.2)\n",
            "Requirement already satisfied: idna<4,>=2.5 in /usr/local/lib/python3.10/dist-packages (from requests>=2.19.0->datasets) (3.6)\n",
            "Requirement already satisfied: urllib3<3,>=1.21.1 in /usr/local/lib/python3.10/dist-packages (from requests>=2.19.0->datasets) (2.0.7)\n",
            "Requirement already satisfied: certifi>=2017.4.17 in /usr/local/lib/python3.10/dist-packages (from requests>=2.19.0->datasets) (2023.11.17)\n",
            "Requirement already satisfied: python-dateutil>=2.8.1 in /usr/local/lib/python3.10/dist-packages (from pandas->datasets) (2.8.2)\n",
            "Requirement already satisfied: pytz>=2020.1 in /usr/local/lib/python3.10/dist-packages (from pandas->datasets) (2023.3.post1)\n",
            "Requirement already satisfied: six>=1.5 in /usr/local/lib/python3.10/dist-packages (from python-dateutil>=2.8.1->pandas->datasets) (1.16.0)\n",
            "Installing collected packages: pyarrow-hotfix, dill, multiprocess, datasets\n",
            "Successfully installed datasets-2.16.0 dill-0.3.7 multiprocess-0.70.15 pyarrow-hotfix-0.6\n"
          ]
        }
      ]
    },
    {
      "cell_type": "code",
      "source": [
        "import torch\n",
        "from torch import nn\n",
        "import torch.functional as F\n",
        "\n",
        "from datasets import load_dataset, load_dataset_builder"
      ],
      "metadata": {
        "id": "plh1PqcjfqVD"
      },
      "execution_count": 34,
      "outputs": []
    },
    {
      "cell_type": "code",
      "source": [
        "# name = 'fashion_mnist'\n",
        "name = \"fashion_mnist\"\n",
        "ds_builder = load_dataset_builder(name)"
      ],
      "metadata": {
        "id": "ggAuBSKR40sv"
      },
      "execution_count": 35,
      "outputs": []
    },
    {
      "cell_type": "code",
      "source": [
        "ds_builder"
      ],
      "metadata": {
        "colab": {
          "base_uri": "https://localhost:8080/"
        },
        "id": "wZ1t5prn6KDH",
        "outputId": "70f090ca-ea7c-42cb-fc81-5e6d9859619e"
      },
      "execution_count": 36,
      "outputs": [
        {
          "output_type": "execute_result",
          "data": {
            "text/plain": [
              "<datasets.packaged_modules.parquet.parquet.ParquetFashionMnist at 0x79aeaff0f010>"
            ]
          },
          "metadata": {},
          "execution_count": 36
        }
      ]
    },
    {
      "cell_type": "code",
      "source": [
        "ds_builder.__dict__"
      ],
      "metadata": {
        "colab": {
          "base_uri": "https://localhost:8080/"
        },
        "id": "8jyMerFz6KtW",
        "outputId": "db50efb0-0ec6-4b22-aafe-019e64aeff04"
      },
      "execution_count": 37,
      "outputs": [
        {
          "output_type": "execute_result",
          "data": {
            "text/plain": [
              "{'name': 'parquet',\n",
              " 'hash': '81a1a5a68571d3a02ddca9e2a93c3a4b065d6764',\n",
              " 'base_path': None,\n",
              " 'token': None,\n",
              " 'use_auth_token': None,\n",
              " 'repo_id': 'fashion_mnist',\n",
              " 'storage_options': {'hf': {'token': None,\n",
              "   'endpoint': 'https://huggingface.co'}},\n",
              " 'dataset_name': 'fashion_mnist',\n",
              " '_writer_batch_size': None,\n",
              " 'config': ParquetConfig(name='fashion_mnist', version='1.0.0', data_dir=None, data_files={'train': ['hf://datasets/fashion_mnist@fae1c0e55b2a1b26e007544c451deead66388cf1/fashion_mnist/train/0000.parquet'], 'test': ['hf://datasets/fashion_mnist@fae1c0e55b2a1b26e007544c451deead66388cf1/fashion_mnist/test/0000.parquet']}, description=None, batch_size=10000, columns=None, features=None),\n",
              " 'config_id': 'fashion_mnist',\n",
              " 'info': DatasetInfo(description='', citation='', homepage='', license='', features=None, post_processed=None, supervised_keys=None, task_templates=None, builder_name='parquet', dataset_name='fashion_mnist', config_name='fashion_mnist', version='1.0.0', splits=None, download_checksums=None, download_size=None, post_processing_size=None, dataset_size=None, size_in_bytes=None),\n",
              " '_cache_dir_root': '/root/.cache/huggingface/datasets',\n",
              " '_cache_downloaded_dir': '/root/.cache/huggingface/datasets/downloads',\n",
              " '_legacy_relative_data_dir': None,\n",
              " '_cache_dir': '/root/.cache/huggingface/datasets/fashion_mnist/fashion_mnist/1.0.0/81a1a5a68571d3a02ddca9e2a93c3a4b065d6764',\n",
              " '_output_dir': '/root/.cache/huggingface/datasets/fashion_mnist/fashion_mnist/1.0.0/81a1a5a68571d3a02ddca9e2a93c3a4b065d6764',\n",
              " '_fs': <fsspec.implementations.local.LocalFileSystem at 0x79aeaff0d4b0>,\n",
              " 'dl_manager': None,\n",
              " '_record_infos': False,\n",
              " '_file_format': None}"
            ]
          },
          "metadata": {},
          "execution_count": 37
        }
      ]
    },
    {
      "cell_type": "code",
      "source": [
        "ds_builder.info.description"
      ],
      "metadata": {
        "colab": {
          "base_uri": "https://localhost:8080/",
          "height": 35
        },
        "id": "fWSQQBh66PTn",
        "outputId": "958c3da1-0119-49e2-c29f-e7d168469db4"
      },
      "execution_count": 38,
      "outputs": [
        {
          "output_type": "execute_result",
          "data": {
            "text/plain": [
              "''"
            ],
            "application/vnd.google.colaboratory.intrinsic+json": {
              "type": "string"
            }
          },
          "metadata": {},
          "execution_count": 38
        }
      ]
    },
    {
      "cell_type": "code",
      "source": [
        "ds = load_dataset(name)"
      ],
      "metadata": {
        "colab": {
          "base_uri": "https://localhost:8080/",
          "height": 145,
          "referenced_widgets": [
            "b457d406353946679c90b3b06b8b87a0",
            "7bc9e0c4b02644cba96600c073f8e993",
            "687940992d2d40a0935292c18be5c07b",
            "6d0fd9bfc18b4b878dd6f6bf1af2e87d",
            "055934d69f5d4326b61b7079b3dcdf38",
            "602bf0ffefbd42629f0ba738af9acbf2",
            "77d205d6b45d4701aefb7e88f6dd451a",
            "79af673da8934cd4a17ce48b45742c43",
            "d18de9c2722a430aaeb2374c555ef79a",
            "8004b8af160a4ab78e80f400f03568e1",
            "8687248783924b00a5a0200033b217ed",
            "3c77eb53f8004396b6f4a1adee5b732d",
            "1f013016d3024f7bb5e7170da4dfc48e",
            "f611d55b4cbc4a68b5e2084a660852eb",
            "fb671e7849424c4f8945232f40488559",
            "763aa468656e4e0aa434a6b005d760e8",
            "9c180fa3eaab45f0834e17344d8c533e",
            "62ad21a33bff4dd7aa9edec859a767e6",
            "92149df644c347548cdb3b72625d5edd",
            "f8f9bb647e764be2bdbe2d35621e4790",
            "3863a2e48050459db56f368633d6f315",
            "523ef81a58a94626b78027745e7fa87d",
            "bbc4c73af6b74458a65f2b726e7cbe35",
            "1789508bb43942cab5d68afed4a692fc",
            "babdcb4e665e4baf9c11c528f7d07098",
            "c12ca4696ab846968f286ba0ce747b1a",
            "36b7407e8ddd4c858720176c7c34f250",
            "e2c1516e359043a7a74e032e447617b9",
            "8dba34e3995f448f8453bab1f28d9fc4",
            "4318ec006015481ebf1cd8701b8aaad2",
            "f4e7f690acfa4f7aa07491ea38b26d63",
            "51badb558bb04732a8721d4f863e17fb",
            "9dbab6c5a9344a20ad8d4e350e44dc73",
            "cd7ee486e71e47a791ff90ecbd3b3f59",
            "d50e07dbdc024dfbaf0364a3278aa201",
            "cfcf7ee017fe4905bbb78dff0172e6e4",
            "ed8095763c3447bf8697b76562b35ff9",
            "1acc934dc3164b3ca0772857f225f621",
            "d9bdadc0c4f34fa2b7c67854695d8a9e",
            "32c3328f27364e06ae61a2c9491b0bc3",
            "2cdc2bd5cde6483e815a265a8b6dc299",
            "1897fd5fbedd4c5ea7ee22c1942a2b6e",
            "a40fb594de2a44a1bf8d4867266a5588",
            "f7987c1fc52c44f08498474035ddcaff"
          ]
        },
        "id": "WswMQ_8Y6g6W",
        "outputId": "5b5a1d76-9570-44a3-b15c-ae312bea800c"
      },
      "execution_count": 39,
      "outputs": [
        {
          "output_type": "display_data",
          "data": {
            "text/plain": [
              "Downloading data:   0%|          | 0.00/30.9M [00:00<?, ?B/s]"
            ],
            "application/vnd.jupyter.widget-view+json": {
              "version_major": 2,
              "version_minor": 0,
              "model_id": "b457d406353946679c90b3b06b8b87a0"
            }
          },
          "metadata": {}
        },
        {
          "output_type": "display_data",
          "data": {
            "text/plain": [
              "Downloading data:   0%|          | 0.00/5.18M [00:00<?, ?B/s]"
            ],
            "application/vnd.jupyter.widget-view+json": {
              "version_major": 2,
              "version_minor": 0,
              "model_id": "3c77eb53f8004396b6f4a1adee5b732d"
            }
          },
          "metadata": {}
        },
        {
          "output_type": "display_data",
          "data": {
            "text/plain": [
              "Generating train split: 0 examples [00:00, ? examples/s]"
            ],
            "application/vnd.jupyter.widget-view+json": {
              "version_major": 2,
              "version_minor": 0,
              "model_id": "bbc4c73af6b74458a65f2b726e7cbe35"
            }
          },
          "metadata": {}
        },
        {
          "output_type": "display_data",
          "data": {
            "text/plain": [
              "Generating test split: 0 examples [00:00, ? examples/s]"
            ],
            "application/vnd.jupyter.widget-view+json": {
              "version_major": 2,
              "version_minor": 0,
              "model_id": "cd7ee486e71e47a791ff90ecbd3b3f59"
            }
          },
          "metadata": {}
        }
      ]
    },
    {
      "cell_type": "code",
      "source": [
        "ds"
      ],
      "metadata": {
        "colab": {
          "base_uri": "https://localhost:8080/"
        },
        "id": "DlFnKubO62dB",
        "outputId": "75c1179c-1803-4ae2-ce26-0321f4922a3b"
      },
      "execution_count": 40,
      "outputs": [
        {
          "output_type": "execute_result",
          "data": {
            "text/plain": [
              "DatasetDict({\n",
              "    train: Dataset({\n",
              "        features: ['image', 'label'],\n",
              "        num_rows: 60000\n",
              "    })\n",
              "    test: Dataset({\n",
              "        features: ['image', 'label'],\n",
              "        num_rows: 10000\n",
              "    })\n",
              "})"
            ]
          },
          "metadata": {},
          "execution_count": 40
        }
      ]
    },
    {
      "cell_type": "code",
      "source": [
        "train, test = ds['train'], ds['test']"
      ],
      "metadata": {
        "id": "1VhLWoyM62zE"
      },
      "execution_count": 41,
      "outputs": []
    },
    {
      "cell_type": "code",
      "source": [
        "ds_builder.info.features"
      ],
      "metadata": {
        "id": "tAFFzSgm65KS"
      },
      "execution_count": 42,
      "outputs": []
    },
    {
      "cell_type": "code",
      "source": [
        "x = train[0]['image']"
      ],
      "metadata": {
        "id": "k8-xjX-P7db8"
      },
      "execution_count": 43,
      "outputs": []
    },
    {
      "cell_type": "code",
      "source": [
        "len(train), len(test)"
      ],
      "metadata": {
        "colab": {
          "base_uri": "https://localhost:8080/"
        },
        "id": "nj4BXsXL7kYo",
        "outputId": "af434d62-5248-4c7b-fdd5-871d05886345"
      },
      "execution_count": 44,
      "outputs": [
        {
          "output_type": "execute_result",
          "data": {
            "text/plain": [
              "(60000, 10000)"
            ]
          },
          "metadata": {},
          "execution_count": 44
        }
      ]
    },
    {
      "cell_type": "code",
      "source": [
        "from torch.utils.data import DataLoader"
      ],
      "metadata": {
        "id": "pa53EKWX7ou3"
      },
      "execution_count": 45,
      "outputs": []
    },
    {
      "cell_type": "code",
      "source": [
        "train"
      ],
      "metadata": {
        "colab": {
          "base_uri": "https://localhost:8080/"
        },
        "id": "LWYkqJYpERkT",
        "outputId": "55201592-c399-4456-adab-73f47818e048"
      },
      "execution_count": 46,
      "outputs": [
        {
          "output_type": "execute_result",
          "data": {
            "text/plain": [
              "Dataset({\n",
              "    features: ['image', 'label'],\n",
              "    num_rows: 60000\n",
              "})"
            ]
          },
          "metadata": {},
          "execution_count": 46
        }
      ]
    },
    {
      "cell_type": "code",
      "source": [
        "test"
      ],
      "metadata": {
        "colab": {
          "base_uri": "https://localhost:8080/"
        },
        "id": "20xMbZLuEnQN",
        "outputId": "e3d0966c-6ad8-4577-b1d7-17511a61d5b1"
      },
      "execution_count": 47,
      "outputs": [
        {
          "output_type": "execute_result",
          "data": {
            "text/plain": [
              "Dataset({\n",
              "    features: ['image', 'label'],\n",
              "    num_rows: 10000\n",
              "})"
            ]
          },
          "metadata": {},
          "execution_count": 47
        }
      ]
    },
    {
      "cell_type": "code",
      "source": [
        "train[0]['image'], train[0][\"label\"]"
      ],
      "metadata": {
        "colab": {
          "base_uri": "https://localhost:8080/"
        },
        "id": "vTKYcD_GEnr3",
        "outputId": "27f1a521-ca53-4f26-fbfb-b8642fff9dc9"
      },
      "execution_count": 48,
      "outputs": [
        {
          "output_type": "execute_result",
          "data": {
            "text/plain": [
              "(<PIL.PngImagePlugin.PngImageFile image mode=L size=28x28>, 9)"
            ]
          },
          "metadata": {},
          "execution_count": 48
        }
      ]
    },
    {
      "cell_type": "code",
      "source": [
        "train[[0, 1, 2, 3, 4]]['image'], train[[0, 1, 2, 3, 4]]['label']"
      ],
      "metadata": {
        "colab": {
          "base_uri": "https://localhost:8080/"
        },
        "id": "UCooRqJNEo-5",
        "outputId": "74b87ea9-25ab-48ea-cfd7-f07ce651a0fc"
      },
      "execution_count": 49,
      "outputs": [
        {
          "output_type": "execute_result",
          "data": {
            "text/plain": [
              "([<PIL.PngImagePlugin.PngImageFile image mode=L size=28x28>,\n",
              "  <PIL.PngImagePlugin.PngImageFile image mode=L size=28x28>,\n",
              "  <PIL.PngImagePlugin.PngImageFile image mode=L size=28x28>,\n",
              "  <PIL.PngImagePlugin.PngImageFile image mode=L size=28x28>,\n",
              "  <PIL.PngImagePlugin.PngImageFile image mode=L size=28x28>],\n",
              " [9, 0, 0, 3, 0])"
            ]
          },
          "metadata": {},
          "execution_count": 49
        }
      ]
    },
    {
      "cell_type": "code",
      "source": [
        "train[[1, 2, 3, 4, 5]]"
      ],
      "metadata": {
        "colab": {
          "base_uri": "https://localhost:8080/"
        },
        "id": "tra1K1noEzlv",
        "outputId": "584c4528-175e-4354-b3ec-681fd5252a05"
      },
      "execution_count": 50,
      "outputs": [
        {
          "output_type": "execute_result",
          "data": {
            "text/plain": [
              "{'image': [<PIL.PngImagePlugin.PngImageFile image mode=L size=28x28>,\n",
              "  <PIL.PngImagePlugin.PngImageFile image mode=L size=28x28>,\n",
              "  <PIL.PngImagePlugin.PngImageFile image mode=L size=28x28>,\n",
              "  <PIL.PngImagePlugin.PngImageFile image mode=L size=28x28>,\n",
              "  <PIL.PngImagePlugin.PngImageFile image mode=L size=28x28>],\n",
              " 'label': [0, 0, 3, 0, 2]}"
            ]
          },
          "metadata": {},
          "execution_count": 50
        }
      ]
    },
    {
      "cell_type": "code",
      "source": [
        "train[[0, 1, 2, 3, 4]]['label']"
      ],
      "metadata": {
        "colab": {
          "base_uri": "https://localhost:8080/"
        },
        "id": "_fRntMDuE8zg",
        "outputId": "8cd92822-33f3-46dc-c9ca-ebe7c26e338e"
      },
      "execution_count": 51,
      "outputs": [
        {
          "output_type": "execute_result",
          "data": {
            "text/plain": [
              "[9, 0, 0, 3, 0]"
            ]
          },
          "metadata": {},
          "execution_count": 51
        }
      ]
    },
    {
      "cell_type": "code",
      "source": [
        "train.features['label'].int2str(train[[0, 1, 2, 3, 4]]['label'])"
      ],
      "metadata": {
        "colab": {
          "base_uri": "https://localhost:8080/"
        },
        "id": "_6YslZ2FFQko",
        "outputId": "e55eaa5a-8f06-4a19-e3c2-b6cb532ca172"
      },
      "execution_count": 52,
      "outputs": [
        {
          "output_type": "execute_result",
          "data": {
            "text/plain": [
              "['Ankle boot',\n",
              " 'T - shirt / top',\n",
              " 'T - shirt / top',\n",
              " 'Dress',\n",
              " 'T - shirt / top']"
            ]
          },
          "metadata": {},
          "execution_count": 52
        }
      ]
    },
    {
      "cell_type": "code",
      "source": [
        "# Lets go with Collate Function...\n",
        "\n",
        "\n",
        "# whats a collate function and why do we need them ???"
      ],
      "metadata": {
        "id": "8E01laWaFWre"
      },
      "execution_count": 185,
      "outputs": []
    },
    {
      "cell_type": "code",
      "source": [
        "from torchvision.transforms.functional import to_tensor"
      ],
      "metadata": {
        "id": "-LlS4lg0GjLs"
      },
      "execution_count": 53,
      "outputs": []
    },
    {
      "cell_type": "code",
      "source": [
        "from ipdb import set_trace as st"
      ],
      "metadata": {
        "id": "-r9hCEOnG28t"
      },
      "execution_count": 54,
      "outputs": []
    },
    {
      "cell_type": "code",
      "source": [
        "def collate_fn(some_data):\n",
        "    # some_data = [{'image': pil image, 'label': 3.0}, {}, {}...]\n",
        "    data = [(i['image'], torch.tensor(i['label'])) for i in some_data]\n",
        "    x, y = zip(*data)\n",
        "    return torch.stack(x), torch.stack(y)"
      ],
      "metadata": {
        "id": "jS_IIRIDGz1D"
      },
      "execution_count": 164,
      "outputs": []
    },
    {
      "cell_type": "code",
      "source": [
        "dl = DataLoader(train, batch_size=16, collate_fn = collate_fn)"
      ],
      "metadata": {
        "id": "MyIHXH0KGfmD"
      },
      "execution_count": 56,
      "outputs": []
    },
    {
      "cell_type": "code",
      "source": [
        "x, y = next(iter(dl))\n",
        "x.shape, y.shape"
      ],
      "metadata": {
        "colab": {
          "base_uri": "https://localhost:8080/"
        },
        "id": "rBkJvx0BGhpn",
        "outputId": "c33e5f99-7680-4caf-f519-1ee3ae084b06"
      },
      "execution_count": 57,
      "outputs": [
        {
          "output_type": "execute_result",
          "data": {
            "text/plain": [
              "(torch.Size([16, 1, 28, 28]), torch.Size([16]))"
            ]
          },
          "metadata": {},
          "execution_count": 57
        }
      ]
    },
    {
      "cell_type": "code",
      "source": [
        "def inplace(f):\n",
        "  def _f(b):\n",
        "    f(b)\n",
        "    return b\n",
        "  return _f\n",
        "\n",
        "@inplace\n",
        "def transform(some):\n",
        "  some['image'] = [to_tensor(i).flatten().unsqueeze(0) for i in some['image']]"
      ],
      "metadata": {
        "id": "X29oI0npGxuG"
      },
      "execution_count": 160,
      "outputs": []
    },
    {
      "cell_type": "code",
      "source": [
        "from torch.utils.data import DataLoader"
      ],
      "metadata": {
        "id": "A3glavNla5E7"
      },
      "execution_count": 137,
      "outputs": []
    },
    {
      "cell_type": "code",
      "source": [
        "tds = train.with_transform(transform)\n",
        "tds[0]['image'].shape"
      ],
      "metadata": {
        "colab": {
          "base_uri": "https://localhost:8080/"
        },
        "id": "9JSKT4_IaTjP",
        "outputId": "8ae04ead-4553-4ce8-eca8-2cd382f0646d"
      },
      "execution_count": 138,
      "outputs": [
        {
          "output_type": "execute_result",
          "data": {
            "text/plain": [
              "torch.Size([784])"
            ]
          },
          "metadata": {},
          "execution_count": 138
        }
      ]
    },
    {
      "cell_type": "code",
      "source": [
        "from operator import itemgetter\n",
        "\n",
        "itemgetter"
      ],
      "metadata": {
        "colab": {
          "base_uri": "https://localhost:8080/"
        },
        "id": "LEoHSyaYcuc1",
        "outputId": "1ef2aa7c-7c5d-45ce-9f52-252ff8b985f6"
      },
      "execution_count": 107,
      "outputs": [
        {
          "output_type": "execute_result",
          "data": {
            "text/plain": [
              "operator.itemgetter"
            ]
          },
          "metadata": {},
          "execution_count": 107
        }
      ]
    },
    {
      "cell_type": "code",
      "source": [
        "ig = itemgetter('a', 'b')\n",
        "ig({'a': 1, 'b': 2, 'c': 2, 'd':3, 'e' : 4, 'a': 6})"
      ],
      "metadata": {
        "colab": {
          "base_uri": "https://localhost:8080/"
        },
        "id": "5B1H5w-Vhefa",
        "outputId": "40b3aa13-c44d-4eff-a2cf-5dd2049eabf0"
      },
      "execution_count": 108,
      "outputs": [
        {
          "output_type": "execute_result",
          "data": {
            "text/plain": [
              "(6, 2)"
            ]
          },
          "metadata": {},
          "execution_count": 108
        }
      ]
    },
    {
      "cell_type": "code",
      "source": [
        "train.features"
      ],
      "metadata": {
        "colab": {
          "base_uri": "https://localhost:8080/"
        },
        "id": "fcOs45RxhzEp",
        "outputId": "f3f5a32f-dce8-4385-bd2e-b329598ee755"
      },
      "execution_count": 112,
      "outputs": [
        {
          "output_type": "execute_result",
          "data": {
            "text/plain": [
              "{'image': Image(decode=True, id=None),\n",
              " 'label': ClassLabel(names=['T - shirt / top', 'Trouser', 'Pullover', 'Dress', 'Coat', 'Sandal', 'Shirt', 'Sneaker', 'Bag', 'Ankle boot'], id=None)}"
            ]
          },
          "metadata": {},
          "execution_count": 112
        }
      ]
    },
    {
      "cell_type": "markdown",
      "source": [
        "# Plotting Images\n"
      ],
      "metadata": {
        "id": "hq2VJeXbtHL0"
      }
    },
    {
      "cell_type": "code",
      "source": [
        "train, test\n",
        "tds = train.with_transform(transform)"
      ],
      "metadata": {
        "id": "ITdTAThIh2JE"
      },
      "execution_count": 161,
      "outputs": []
    },
    {
      "cell_type": "code",
      "source": [
        "train_dl = DataLoader(tds, 16, shuffle = True, collate_fn = collate_fn)"
      ],
      "metadata": {
        "id": "NTwRcJHRtSNV"
      },
      "execution_count": 165,
      "outputs": []
    },
    {
      "cell_type": "code",
      "source": [
        "x, y = next(iter(train_dl))"
      ],
      "metadata": {
        "id": "ozSpW7JotphY"
      },
      "execution_count": 166,
      "outputs": []
    },
    {
      "cell_type": "code",
      "source": [
        "x.shape, y.shape"
      ],
      "metadata": {
        "colab": {
          "base_uri": "https://localhost:8080/"
        },
        "id": "hh8-_rOAttfl",
        "outputId": "0961f8f1-3238-4d26-dd16-1890b3751c3c"
      },
      "execution_count": 167,
      "outputs": [
        {
          "output_type": "execute_result",
          "data": {
            "text/plain": [
              "(torch.Size([16, 1, 784]), torch.Size([16]))"
            ]
          },
          "metadata": {},
          "execution_count": 167
        }
      ]
    },
    {
      "cell_type": "code",
      "source": [
        "import matplotlib.pyplot as plt"
      ],
      "metadata": {
        "id": "ieGZ2q06wAGB"
      },
      "execution_count": 176,
      "outputs": []
    },
    {
      "cell_type": "code",
      "source": [
        "im_tensor = x[2].reshape(1, 28, 28).squeeze()\n",
        "plt.imshow(im_tensor)"
      ],
      "metadata": {
        "colab": {
          "base_uri": "https://localhost:8080/",
          "height": 448
        },
        "id": "G-__6F9Rvel-",
        "outputId": "fff87269-231c-47b3-8438-9d7566ba42ab"
      },
      "execution_count": 182,
      "outputs": [
        {
          "output_type": "execute_result",
          "data": {
            "text/plain": [
              "<matplotlib.image.AxesImage at 0x79ae7b29f610>"
            ]
          },
          "metadata": {},
          "execution_count": 182
        },
        {
          "output_type": "display_data",
          "data": {
            "text/plain": [
              "<Figure size 640x480 with 1 Axes>"
            ],
            "image/png": "[encoded data removed]"
          },
          "metadata": {}
        }
      ]
    },
    {
      "cell_type": "code",
      "source": [
        "import fastcore.all as fc\n",
        "fc.hasattrs"
      ],
      "metadata": {
        "colab": {
          "base_uri": "https://localhost:8080/"
        },
        "id": "r226hCT2iYrI",
        "outputId": "2a32a338-21f7-4a9b-cbc6-890bb35caa61"
      },
      "execution_count": 187,
      "outputs": [
        {
          "output_type": "execute_result",
          "data": {
            "text/plain": [
              "<function fastcore.basics.hasattrs(o, attrs)>"
            ]
          },
          "metadata": {},
          "execution_count": 187
        }
      ]
    },
    {
      "cell_type": "code",
      "source": [
        "im_tensor.device"
      ],
      "metadata": {
        "colab": {
          "base_uri": "https://localhost:8080/"
        },
        "id": "ivPSGYeiivp7",
        "outputId": "5a6d5aab-de0b-4b34-e5f7-a50f74c2eee7"
      },
      "execution_count": 194,
      "outputs": [
        {
          "output_type": "execute_result",
          "data": {
            "text/plain": [
              "device(type='cpu')"
            ]
          },
          "metadata": {},
          "execution_count": 194
        }
      ]
    },
    {
      "cell_type": "code",
      "source": [
        "help(fc.hasattrs)"
      ],
      "metadata": {
        "colab": {
          "base_uri": "https://localhost:8080/"
        },
        "id": "6atjLP1yiiku",
        "outputId": "467d1623-7965-41ed-ede2-25321f6cdd4e"
      },
      "execution_count": 192,
      "outputs": [
        {
          "output_type": "stream",
          "name": "stdout",
          "text": [
            "Help on function hasattrs in module fastcore.basics:\n",
            "\n",
            "hasattrs(o, attrs)\n",
            "    Test whether `o` contains all `attrs`\n",
            "\n"
          ]
        }
      ]
    },
    {
      "cell_type": "code",
      "source": [
        "im_tensor.to('cpu')"
      ],
      "metadata": {
        "id": "yNjeWLycjCX8"
      },
      "execution_count": null,
      "outputs": []
    },
    {
      "cell_type": "code",
      "source": [
        "def test(a, **kwargs):\n",
        "  st()\n",
        "  print(args, kwargs)"
      ],
      "metadata": {
        "id": "7M5fczEnj_9B"
      },
      "execution_count": 201,
      "outputs": []
    },
    {
      "cell_type": "code",
      "source": [
        "test(0, b= 1, c = 3, d = 4, e = 5)"
      ],
      "metadata": {
        "colab": {
          "base_uri": "https://localhost:8080/"
        },
        "id": "3qTcNAddkHDT",
        "outputId": "337cb7f2-33b0-47d6-c396-84cfa1945c4c"
      },
      "execution_count": 202,
      "outputs": [
        {
          "name": "stdout",
          "output_type": "stream",
          "text": [
            "> \u001b[0;32m<ipython-input-201-373aa6e585b9>\u001b[0m(3)\u001b[0;36mtest\u001b[0;34m()\u001b[0m\n",
            "\u001b[0;32m      1 \u001b[0;31m\u001b[0;32mdef\u001b[0m \u001b[0mtest\u001b[0m\u001b[0;34m(\u001b[0m\u001b[0ma\u001b[0m\u001b[0;34m,\u001b[0m \u001b[0;34m**\u001b[0m\u001b[0mkwargs\u001b[0m\u001b[0;34m)\u001b[0m\u001b[0;34m:\u001b[0m\u001b[0;34m\u001b[0m\u001b[0;34m\u001b[0m\u001b[0m\n",
            "\u001b[0m\u001b[0;32m      2 \u001b[0;31m  \u001b[0mst\u001b[0m\u001b[0;34m(\u001b[0m\u001b[0;34m)\u001b[0m\u001b[0;34m\u001b[0m\u001b[0;34m\u001b[0m\u001b[0m\n",
            "\u001b[0m\u001b[0;32m----> 3 \u001b[0;31m  \u001b[0mprint\u001b[0m\u001b[0;34m(\u001b[0m\u001b[0margs\u001b[0m\u001b[0;34m,\u001b[0m \u001b[0mkwargs\u001b[0m\u001b[0;34m)\u001b[0m\u001b[0;34m\u001b[0m\u001b[0;34m\u001b[0m\u001b[0m\n",
            "\u001b[0m\n",
            "ipdb> args\n",
            "a = 0\n",
            "kwargs = {'b': 1, 'c': 3, 'd': 4, 'e': 5}\n",
            "ipdb> kwargs\n",
            "{'b': 1, 'c': 3, 'd': 4, 'e': 5}\n",
            "ipdb> exit\n"
          ]
        }
      ]
    },
    {
      "cell_type": "code",
      "source": [
        "def show_image(im, ax = None, figsize = (3, 3), title = None, **kwargs):\n",
        "\n",
        "  # convert it to numpy\n",
        "  # im = im.detach().to('cpu')\n",
        "  # st()\n",
        "  # im.squeeze()\n",
        "  im = im.numpy()\n",
        "  # create subplots\n",
        "  if not ax: _, ax = plt.subplots(1, 1, figsize = figsize)\n",
        "  ax.imshow(im, **kwargs)\n",
        "  if title: ax.set_title(title)\n",
        "  ax.axis('off')\n",
        "  return ax"
      ],
      "metadata": {
        "id": "av_ERqqivuJG"
      },
      "execution_count": 250,
      "outputs": []
    },
    {
      "cell_type": "code",
      "source": [
        "show_image(im_tensor)"
      ],
      "metadata": {
        "colab": {
          "base_uri": "https://localhost:8080/",
          "height": 286
        },
        "id": "54dlK2XSknLX",
        "outputId": "5bfbd8fd-32e7-4df0-cd17-2c0fb9160720"
      },
      "execution_count": 251,
      "outputs": [
        {
          "output_type": "execute_result",
          "data": {
            "text/plain": [
              "<Axes: >"
            ]
          },
          "metadata": {},
          "execution_count": 251
        },
        {
          "output_type": "display_data",
          "data": {
            "text/plain": [
              "<Figure size 300x300 with 1 Axes>"
            ],
            "image/png": "[encoded data removed]"
          },
          "metadata": {}
        }
      ]
    },
    {
      "cell_type": "code",
      "source": [
        "import math"
      ],
      "metadata": {
        "id": "DbC-FFj8lc4G"
      },
      "execution_count": 252,
      "outputs": []
    },
    {
      "cell_type": "code",
      "source": [
        "def get_grid(n_images, n_rows = None, n_cols = None, **kwargs):\n",
        "\n",
        "  if n_rows and n_cols: nr, nc = n_rows, n_cols\n",
        "  elif n_rows and not n_cols: nr, nc = nr, math.ceil(n_images/n_rows)\n",
        "  elif n_cols and not n_rows: nr, nc = math.ceil(n_images/n_cols), n_cols\n",
        "  else: nr, nc = math.ceil(n_images/4), 4\n",
        "  fig, axs = plt.subplots(nr, nc, **kwargs)\n",
        "  if nr*nc == 1: axs = [axs]\n",
        "  for i in range(n_images, nr*nc): axs.flat[i].set_axis_off()\n",
        "  return fig, axs.flatten()"
      ],
      "metadata": {
        "id": "LlNoGyw7krkX"
      },
      "execution_count": 259,
      "outputs": []
    },
    {
      "cell_type": "code",
      "source": [
        "images = x[:10]"
      ],
      "metadata": {
        "id": "Z3Lyyw6dmMxI"
      },
      "execution_count": 260,
      "outputs": []
    },
    {
      "cell_type": "code",
      "source": [
        "images.shape"
      ],
      "metadata": {
        "colab": {
          "base_uri": "https://localhost:8080/"
        },
        "id": "YknabfJXmQSm",
        "outputId": "9e0f553e-d334-493a-b3f2-d0a52e9ceb2f"
      },
      "execution_count": 261,
      "outputs": [
        {
          "output_type": "execute_result",
          "data": {
            "text/plain": [
              "torch.Size([10, 1, 784])"
            ]
          },
          "metadata": {},
          "execution_count": 261
        }
      ]
    },
    {
      "cell_type": "code",
      "source": [
        "fig, axs = get_grid(images.shape[0])\n",
        "for i in range(images.shape[0]):\n",
        "  im = images[i].reshape([1, 28, 28]).squeeze()\n",
        "  show_image(im, ax = axs[i])"
      ],
      "metadata": {
        "colab": {
          "base_uri": "https://localhost:8080/",
          "height": 406
        },
        "id": "t-zo2ekNmQ8b",
        "outputId": "22cd95b5-e788-4507-f940-a87c3345bfaa"
      },
      "execution_count": 262,
      "outputs": [
        {
          "output_type": "display_data",
          "data": {
            "text/plain": [
              "<Figure size 640x480 with 12 Axes>"
            ],
            "image/png": "[encoded data removed]"
          },
          "metadata": {}
        }
      ]
    },
    {
      "cell_type": "code",
      "source": [
        "x.shape"
      ],
      "metadata": {
        "colab": {
          "base_uri": "https://localhost:8080/"
        },
        "id": "0Jytlcxtoyo1",
        "outputId": "a6e95b0a-8762-4ba8-dcb2-7db6c5ab006f"
      },
      "execution_count": 263,
      "outputs": [
        {
          "output_type": "execute_result",
          "data": {
            "text/plain": [
              "torch.Size([16, 1, 784])"
            ]
          },
          "metadata": {},
          "execution_count": 263
        }
      ]
    },
    {
      "cell_type": "code",
      "source": [
        "!pip install nbdev"
      ],
      "metadata": {
        "id": "DQDgV2r7mVG7"
      },
      "execution_count": null,
      "outputs": []
    },
    {
      "cell_type": "markdown",
      "source": [
        "# Callbacks"
      ],
      "metadata": {
        "id": "gcup29Iwq9Pe"
      }
    },
    {
      "cell_type": "code",
      "source": [
        "from time import sleep"
      ],
      "metadata": {
        "id": "mMkCo675qzQx"
      },
      "execution_count": 267,
      "outputs": []
    },
    {
      "cell_type": "code",
      "source": [
        "sleep(3)"
      ],
      "metadata": {
        "id": "n3FFA1sErRkz"
      },
      "execution_count": 268,
      "outputs": []
    },
    {
      "cell_type": "code",
      "source": [
        "def get_cubes(n):\n",
        "  for i in range(n):\n",
        "    yield i**3"
      ],
      "metadata": {
        "id": "ehiqLJwmrSpe"
      },
      "execution_count": 274,
      "outputs": []
    },
    {
      "cell_type": "code",
      "source": [
        "[i for i in get_cubes(4)]"
      ],
      "metadata": {
        "colab": {
          "base_uri": "https://localhost:8080/"
        },
        "id": "IAleYCveDtvZ",
        "outputId": "a409b778-d543-44a3-a566-c37c1b700259"
      },
      "execution_count": 275,
      "outputs": [
        {
          "output_type": "execute_result",
          "data": {
            "text/plain": [
              "[0, 1, 8, 27]"
            ]
          },
          "metadata": {},
          "execution_count": 275
        }
      ]
    },
    {
      "cell_type": "code",
      "source": [
        "(i for i in range(3) if i%1 == 0)"
      ],
      "metadata": {
        "colab": {
          "base_uri": "https://localhost:8080/"
        },
        "id": "j69bKlLmDu_k",
        "outputId": "97f102b3-dddf-43df-e379-e7c704a11ef1"
      },
      "execution_count": 276,
      "outputs": [
        {
          "output_type": "execute_result",
          "data": {
            "text/plain": [
              "<generator object <genexpr> at 0x79ae7857d7e0>"
            ]
          },
          "metadata": {},
          "execution_count": 276
        }
      ]
    },
    {
      "cell_type": "code",
      "source": [
        "def get_primes(s, e):\n",
        "    for i in range(s, e+1):\n",
        "      is_prime = True\n",
        "      for j in range(2, i):\n",
        "        if (i%j) == 0:\n",
        "          is_prime = False\n",
        "\n",
        "      if is_prime:\n",
        "        yield i\n"
      ],
      "metadata": {
        "id": "Fgrsf2gkD8Sp"
      },
      "execution_count": 281,
      "outputs": []
    },
    {
      "cell_type": "code",
      "source": [
        "[i for i in get_primes(10, 19)]"
      ],
      "metadata": {
        "colab": {
          "base_uri": "https://localhost:8080/"
        },
        "id": "7FMnZbqkEiRp",
        "outputId": "94f976c9-d097-4b17-c5f4-197f7fa9f501"
      },
      "execution_count": 283,
      "outputs": [
        {
          "output_type": "execute_result",
          "data": {
            "text/plain": [
              "[11, 13, 17, 19]"
            ]
          },
          "metadata": {},
          "execution_count": 283
        }
      ]
    },
    {
      "cell_type": "code",
      "source": [
        "def fibbanocci():\n",
        "    s1 = 1\n",
        "    s2 = 2\n",
        "    while True:\n",
        "      next = s1 + s2\n",
        "      s1, s2 = s2, next\n",
        "      yield next"
      ],
      "metadata": {
        "id": "n8DSlYrHEzNj"
      },
      "execution_count": 284,
      "outputs": []
    },
    {
      "cell_type": "code",
      "source": [
        "f = []\n",
        "for i in fibbanocci():\n",
        "  if (i > 100):\n",
        "    break\n",
        "  f.append(i)"
      ],
      "metadata": {
        "id": "Ldl5KHerFLIj"
      },
      "execution_count": 285,
      "outputs": []
    },
    {
      "cell_type": "code",
      "source": [
        "f"
      ],
      "metadata": {
        "colab": {
          "base_uri": "https://localhost:8080/"
        },
        "id": "YNVeNXpmFTp6",
        "outputId": "551c48a0-3af5-4562-98aa-69b406561bbd"
      },
      "execution_count": 286,
      "outputs": [
        {
          "output_type": "execute_result",
          "data": {
            "text/plain": [
              "[3, 5, 8, 13, 21, 34, 55, 89]"
            ]
          },
          "metadata": {},
          "execution_count": 286
        }
      ]
    },
    {
      "cell_type": "code",
      "source": [
        "def permutations(lis):\n",
        ""
      ],
      "metadata": {
        "id": "VXnFOY-fFUap"
      },
      "execution_count": null,
      "outputs": []
    }
  ]
}